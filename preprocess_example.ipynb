{
 "cells": [
  {
   "cell_type": "code",
   "execution_count": 18,
   "metadata": {},
   "outputs": [
    {
     "name": "stdout",
     "output_type": "stream",
     "text": [
      "[[-0.06301166 -0.12635876 -0.07164581 ...  0.04326442  0.69618061\n",
      "   0.09845403]\n",
      " [-0.06301715 -0.12631663 -0.07168023 ...  0.04331195  0.69617192\n",
      "   0.09844785]\n",
      " [-0.06303662 -0.12623416 -0.07178465 ...  0.04341239  0.69616823\n",
      "   0.09841335]\n",
      " ...\n",
      " [-0.09340365 -0.11687138 -0.08973915 ... -0.16790753  0.29490004\n",
      "   0.27422771]\n",
      " [-0.0931967  -0.11708021 -0.08973681 ... -0.17539273  0.29180785\n",
      "   0.27681376]\n",
      " [-0.0929846  -0.11728093 -0.08975872 ... -0.18345348  0.28818958\n",
      "   0.28021409]]\n"
     ]
    }
   ],
   "source": [
    "import pandas as pd\n",
    "from Skeleton import Skeleton,ConstrainedSkeleton\n",
    "\n",
    "def normalize_bio_root_absolute(dataset):\n",
    "    s12 = Skeleton('BODY12.xml')\n",
    "    s15 = ConstrainedSkeleton('BODY15_constrained_3D.xml')\n",
    "    \n",
    "    # Normalization using Biomecanichal model    \n",
    "    for j in range(dataset.shape[0]):\n",
    "        x = dataset[j,:].reshape(-1,3)\n",
    "        s12.load_from_numpy(x,labels)\n",
    "        s15.load_from_BODY12(s12)\n",
    "        h = s15.estimate_height(False)\n",
    "        root = s15.to_numpy([\"Root\"])\n",
    "        x = (x-root)/h\n",
    "        dataset[j,:] = x.ravel()\n",
    "        \n",
    "labels = ['LShoulder','RShoulder','LElbow','RElbow','LWrist','RWrist','LHip','RHip','LKnee','RKnee','LAnkle','RAnkle']\n",
    "columns = []\n",
    "\n",
    "for label in labels:\n",
    "    columns.append(label+\":X\")\n",
    "    columns.append(label+\":Y\")\n",
    "    columns.append(label+\":Z\")\n",
    "\n",
    "X = pd.read_csv(\"/home/emartini/nas/MAEVE/HUMAN_MODEL/dataset/DDPM/gt/S1_Phoning.54138969.csv\")\n",
    "\n",
    "dataset = X[columns].to_numpy()\n",
    "\n",
    "normalize_bio_root_absolute(dataset)\n",
    "\n",
    "print(dataset)\n"
   ]
  }
 ],
 "metadata": {
  "kernelspec": {
   "display_name": "flk2",
   "language": "python",
   "name": "flk2"
  },
  "language_info": {
   "codemirror_mode": {
    "name": "ipython",
    "version": 3
   },
   "file_extension": ".py",
   "mimetype": "text/x-python",
   "name": "python",
   "nbconvert_exporter": "python",
   "pygments_lexer": "ipython3",
   "version": "3.10.12"
  }
 },
 "nbformat": 4,
 "nbformat_minor": 2
}
