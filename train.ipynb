{
 "cells": [
  {
   "cell_type": "code",
   "execution_count": 1,
   "metadata": {},
   "outputs": [
    {
     "name": "stderr",
     "output_type": "stream",
     "text": [
      "2024-04-15 11:38:34.633852: I tensorflow/core/util/util.cc:169] oneDNN custom operations are on. You may see slightly different numerical results due to floating-point round-off errors from different computation orders. To turn them off, set the environment variable `TF_ENABLE_ONEDNN_OPTS=0`.\n",
      "2024-04-15 11:38:35.332902: I tensorflow/stream_executor/cuda/cuda_gpu_executor.cc:975] successful NUMA node read from SysFS had negative value (-1), but there must be at least one NUMA node, so returning NUMA node zero\n",
      "2024-04-15 11:38:35.349668: I tensorflow/stream_executor/cuda/cuda_gpu_executor.cc:975] successful NUMA node read from SysFS had negative value (-1), but there must be at least one NUMA node, so returning NUMA node zero\n",
      "2024-04-15 11:38:35.349752: I tensorflow/stream_executor/cuda/cuda_gpu_executor.cc:975] successful NUMA node read from SysFS had negative value (-1), but there must be at least one NUMA node, so returning NUMA node zero\n"
     ]
    }
   ],
   "source": [
    "import os\n",
    "import numpy as np\n",
    "import tensorflow as tf\n",
    "from tensorflow import keras\n",
    "from tensorflow.keras import layers\n",
    "from tensorflow.keras.callbacks import ModelCheckpoint\n",
    "import glob\n",
    "\n",
    "gpus = tf.config.experimental.list_physical_devices('GPU')\n",
    "for gpu in gpus:\n",
    "  tf.config.experimental.set_memory_growth(gpu, True)\n",
    "\n",
    "# Hyperparameters\n",
    "timestep = 16\n",
    "split = 80\n",
    "sample = 10\n",
    "epochs = 80\n",
    "batch_size=128\n",
    "to_keep = [0,0,0,0,0,0,1,1,1,1,0,0,0,1,1,1,1,0,0,0,1,0,1,1,0,1,0,0,0,0,0,0,1,1,1,1,0,0,0,0,0,0,1,1,1,1,0,0,0]"
   ]
  },
  {
   "cell_type": "code",
   "execution_count": 92,
   "metadata": {},
   "outputs": [],
   "source": [
    "# Build dataset\n",
    "path = '/media/rmhri/mrom/data/dataset49+' # For pw3d\n",
    "files = glob.glob(path + '/*.csv')\n",
    "\n",
    "final_X = []\n",
    "final_y = []\n",
    "test_X = []\n",
    "test_y = []\n",
    "\n",
    "for filename in files:\n",
    "    file = np.loadtxt(filename,delimiter=',')\n",
    "    file = file[:,np.array(to_keep).astype(bool)]\n",
    "    X = []\n",
    "    y = []\n",
    "    for j in range(file.shape[0] - timestep):\n",
    "        seq = file[j: j + timestep + 1]\n",
    "        in_seq = seq[:-1].tolist()\n",
    "        out = seq.tolist()[-1]\n",
    "        X.append(in_seq)\n",
    "        y.append(out)\n",
    "\n",
    "    if len(X) > sample:\n",
    "        subset_index = np.random.choice(list(range(0, len(X))),size = sample, replace = False)\n",
    "        X = [X[i] for i in subset_index]\n",
    "        y = [y[i] for i in subset_index]\n",
    "\n",
    "    if not filename.__contains__(\"MPI_Limits\"):\n",
    "        final_X += X\n",
    "        final_y += y\n",
    "    else:\n",
    "        test_X += X\n",
    "        test_y += y\n",
    "        # print(filename)\n",
    "\n",
    "\n",
    "subset_index = np.random.choice(list(range(0, len(final_X))),size = len(final_X), replace = False)\n",
    "final_X = [final_X[i] for i in subset_index]\n",
    "final_y = [final_y[i] for i in subset_index]\n",
    "X = np.array(final_X)/np.pi\n",
    "y = np.array(final_y)/np.pi\n",
    "\n",
    "split_index = int(len(X) * 0.8)  # 80% training, 20% validation\n",
    "X_train, X_val = X[:split_index], X[split_index:]\n",
    "y_train, y_val = y[:split_index], y[split_index:]\n",
    "\n",
    "np.save( '/media/rmhri/mrom/data/train_dataset/X_train_' + str(timestep) + '_' + str(sample)+  '_angle.npy', X_train)\n",
    "np.save( '/media/rmhri/mrom/data/train_dataset/X_val_'   + str(timestep) + '_' + str(sample)+  '_angle.npy', X_val)\n",
    "np.save( '/media/rmhri/mrom/data/train_dataset/y_train_' + str(timestep) + '_' + str(sample)+  '_angle.npy', y_train)\n",
    "np.save( '/media/rmhri/mrom/data/train_dataset/y_val_'   + str(timestep) + '_' + str(sample)+  '_angle.npy', y_val)\n",
    "np.save( '/media/rmhri/mrom/data/train_dataset/y_test_' + str(timestep) + '_' + str(sample)+  '_angle.npy', test_y)\n",
    "np.save( '/media/rmhri/mrom/data/train_dataset/X_test_'   + str(timestep) + '_' + str(sample)+  '_angle.npy', test_X)\n"
   ]
  },
  {
   "cell_type": "code",
   "execution_count": 93,
   "metadata": {},
   "outputs": [
    {
     "name": "stdout",
     "output_type": "stream",
     "text": [
      "Model: \"sequential\"\n",
      "_________________________________________________________________\n",
      " Layer (type)                Output Shape              Param #   \n",
      "=================================================================\n",
      " gru (GRU)                   (None, 16, 1024)          3213312   \n",
      "                                                                 \n",
      " dropout (Dropout)           (None, 16, 1024)          0         \n",
      "                                                                 \n",
      " gru_1 (GRU)                 (None, 1024)              6297600   \n",
      "                                                                 \n",
      " dense (Dense)               (None, 20)                20500     \n",
      "                                                                 \n",
      "=================================================================\n",
      "Total params: 9,531,412\n",
      "Trainable params: 9,531,412\n",
      "Non-trainable params: 0\n",
      "_________________________________________________________________\n",
      "Epoch 1/80\n",
      "38/40 [===========================>..] - ETA: 0s - loss: 0.0219 - mae: 0.0951"
     ]
    },
    {
     "name": "stderr",
     "output_type": "stream",
     "text": [
      "WARNING:absl:Found untraced functions such as gru_cell_14_layer_call_fn, gru_cell_14_layer_call_and_return_conditional_losses, gru_cell_15_layer_call_fn, gru_cell_15_layer_call_and_return_conditional_losses while saving (showing 4 of 4). These functions will not be directly callable after loading.\n"
     ]
    },
    {
     "name": "stdout",
     "output_type": "stream",
     "text": [
      "INFO:tensorflow:Assets written to: /media/rmhri/mrom/data/model/angle_16_10/assets\n"
     ]
    },
    {
     "name": "stderr",
     "output_type": "stream",
     "text": [
      "INFO:tensorflow:Assets written to: /media/rmhri/mrom/data/model/angle_16_10/assets\n"
     ]
    },
    {
     "name": "stdout",
     "output_type": "stream",
     "text": [
      "40/40 [==============================] - 4s 74ms/step - loss: 0.0215 - mae: 0.0941 - val_loss: 0.0122 - val_mae: 0.0711\n",
      "Epoch 2/80\n",
      "37/40 [==========================>...] - ETA: 0s - loss: 0.0092 - mae: 0.0635"
     ]
    },
    {
     "name": "stderr",
     "output_type": "stream",
     "text": [
      "WARNING:absl:Found untraced functions such as gru_cell_14_layer_call_fn, gru_cell_14_layer_call_and_return_conditional_losses, gru_cell_15_layer_call_fn, gru_cell_15_layer_call_and_return_conditional_losses while saving (showing 4 of 4). These functions will not be directly callable after loading.\n"
     ]
    },
    {
     "name": "stdout",
     "output_type": "stream",
     "text": [
      "INFO:tensorflow:Assets written to: /media/rmhri/mrom/data/model/angle_16_10/assets\n"
     ]
    },
    {
     "name": "stderr",
     "output_type": "stream",
     "text": [
      "INFO:tensorflow:Assets written to: /media/rmhri/mrom/data/model/angle_16_10/assets\n"
     ]
    },
    {
     "name": "stdout",
     "output_type": "stream",
     "text": [
      "40/40 [==============================] - 3s 69ms/step - loss: 0.0091 - mae: 0.0633 - val_loss: 0.0065 - val_mae: 0.0553\n",
      "Epoch 3/80\n",
      "38/40 [===========================>..] - ETA: 0s - loss: 0.0058 - mae: 0.0525"
     ]
    },
    {
     "name": "stderr",
     "output_type": "stream",
     "text": [
      "WARNING:absl:Found untraced functions such as gru_cell_14_layer_call_fn, gru_cell_14_layer_call_and_return_conditional_losses, gru_cell_15_layer_call_fn, gru_cell_15_layer_call_and_return_conditional_losses while saving (showing 4 of 4). These functions will not be directly callable after loading.\n"
     ]
    },
    {
     "name": "stdout",
     "output_type": "stream",
     "text": [
      "INFO:tensorflow:Assets written to: /media/rmhri/mrom/data/model/angle_16_10/assets\n"
     ]
    },
    {
     "name": "stderr",
     "output_type": "stream",
     "text": [
      "INFO:tensorflow:Assets written to: /media/rmhri/mrom/data/model/angle_16_10/assets\n"
     ]
    },
    {
     "name": "stdout",
     "output_type": "stream",
     "text": [
      "40/40 [==============================] - 2s 62ms/step - loss: 0.0057 - mae: 0.0522 - val_loss: 0.0044 - val_mae: 0.0456\n",
      "Epoch 4/80\n",
      "37/40 [==========================>...] - ETA: 0s - loss: 0.0041 - mae: 0.0441"
     ]
    },
    {
     "name": "stderr",
     "output_type": "stream",
     "text": [
      "WARNING:absl:Found untraced functions such as gru_cell_14_layer_call_fn, gru_cell_14_layer_call_and_return_conditional_losses, gru_cell_15_layer_call_fn, gru_cell_15_layer_call_and_return_conditional_losses while saving (showing 4 of 4). These functions will not be directly callable after loading.\n"
     ]
    },
    {
     "name": "stdout",
     "output_type": "stream",
     "text": [
      "INFO:tensorflow:Assets written to: /media/rmhri/mrom/data/model/angle_16_10/assets\n"
     ]
    },
    {
     "name": "stderr",
     "output_type": "stream",
     "text": [
      "INFO:tensorflow:Assets written to: /media/rmhri/mrom/data/model/angle_16_10/assets\n"
     ]
    },
    {
     "name": "stdout",
     "output_type": "stream",
     "text": [
      "40/40 [==============================] - 3s 71ms/step - loss: 0.0040 - mae: 0.0438 - val_loss: 0.0032 - val_mae: 0.0390\n",
      "Epoch 5/80\n",
      "37/40 [==========================>...] - ETA: 0s - loss: 0.0031 - mae: 0.0384"
     ]
    },
    {
     "name": "stderr",
     "output_type": "stream",
     "text": [
      "WARNING:absl:Found untraced functions such as gru_cell_14_layer_call_fn, gru_cell_14_layer_call_and_return_conditional_losses, gru_cell_15_layer_call_fn, gru_cell_15_layer_call_and_return_conditional_losses while saving (showing 4 of 4). These functions will not be directly callable after loading.\n"
     ]
    },
    {
     "name": "stdout",
     "output_type": "stream",
     "text": [
      "INFO:tensorflow:Assets written to: /media/rmhri/mrom/data/model/angle_16_10/assets\n"
     ]
    },
    {
     "name": "stderr",
     "output_type": "stream",
     "text": [
      "INFO:tensorflow:Assets written to: /media/rmhri/mrom/data/model/angle_16_10/assets\n"
     ]
    },
    {
     "name": "stdout",
     "output_type": "stream",
     "text": [
      "40/40 [==============================] - 2s 63ms/step - loss: 0.0031 - mae: 0.0382 - val_loss: 0.0025 - val_mae: 0.0345\n",
      "Epoch 6/80\n",
      "39/40 [============================>.] - ETA: 0s - loss: 0.0025 - mae: 0.0342"
     ]
    },
    {
     "name": "stderr",
     "output_type": "stream",
     "text": [
      "WARNING:absl:Found untraced functions such as gru_cell_14_layer_call_fn, gru_cell_14_layer_call_and_return_conditional_losses, gru_cell_15_layer_call_fn, gru_cell_15_layer_call_and_return_conditional_losses while saving (showing 4 of 4). These functions will not be directly callable after loading.\n"
     ]
    },
    {
     "name": "stdout",
     "output_type": "stream",
     "text": [
      "INFO:tensorflow:Assets written to: /media/rmhri/mrom/data/model/angle_16_10/assets\n"
     ]
    },
    {
     "name": "stderr",
     "output_type": "stream",
     "text": [
      "INFO:tensorflow:Assets written to: /media/rmhri/mrom/data/model/angle_16_10/assets\n"
     ]
    },
    {
     "name": "stdout",
     "output_type": "stream",
     "text": [
      "40/40 [==============================] - 3s 70ms/step - loss: 0.0025 - mae: 0.0342 - val_loss: 0.0020 - val_mae: 0.0310\n",
      "Epoch 7/80\n",
      "40/40 [==============================] - ETA: 0s - loss: 0.0020 - mae: 0.0309"
     ]
    },
    {
     "name": "stderr",
     "output_type": "stream",
     "text": [
      "WARNING:absl:Found untraced functions such as gru_cell_14_layer_call_fn, gru_cell_14_layer_call_and_return_conditional_losses, gru_cell_15_layer_call_fn, gru_cell_15_layer_call_and_return_conditional_losses while saving (showing 4 of 4). These functions will not be directly callable after loading.\n"
     ]
    },
    {
     "name": "stdout",
     "output_type": "stream",
     "text": [
      "INFO:tensorflow:Assets written to: /media/rmhri/mrom/data/model/angle_16_10/assets\n"
     ]
    },
    {
     "name": "stderr",
     "output_type": "stream",
     "text": [
      "INFO:tensorflow:Assets written to: /media/rmhri/mrom/data/model/angle_16_10/assets\n"
     ]
    },
    {
     "name": "stdout",
     "output_type": "stream",
     "text": [
      "40/40 [==============================] - 2s 62ms/step - loss: 0.0020 - mae: 0.0309 - val_loss: 0.0017 - val_mae: 0.0281\n",
      "Epoch 8/80\n",
      "37/40 [==========================>...] - ETA: 0s - loss: 0.0017 - mae: 0.0282"
     ]
    },
    {
     "name": "stderr",
     "output_type": "stream",
     "text": [
      "WARNING:absl:Found untraced functions such as gru_cell_14_layer_call_fn, gru_cell_14_layer_call_and_return_conditional_losses, gru_cell_15_layer_call_fn, gru_cell_15_layer_call_and_return_conditional_losses while saving (showing 4 of 4). These functions will not be directly callable after loading.\n"
     ]
    },
    {
     "name": "stdout",
     "output_type": "stream",
     "text": [
      "INFO:tensorflow:Assets written to: /media/rmhri/mrom/data/model/angle_16_10/assets\n"
     ]
    },
    {
     "name": "stderr",
     "output_type": "stream",
     "text": [
      "INFO:tensorflow:Assets written to: /media/rmhri/mrom/data/model/angle_16_10/assets\n"
     ]
    },
    {
     "name": "stdout",
     "output_type": "stream",
     "text": [
      "40/40 [==============================] - 3s 70ms/step - loss: 0.0017 - mae: 0.0281 - val_loss: 0.0014 - val_mae: 0.0257\n",
      "Epoch 9/80\n",
      "38/40 [===========================>..] - ETA: 0s - loss: 0.0014 - mae: 0.0258"
     ]
    },
    {
     "name": "stderr",
     "output_type": "stream",
     "text": [
      "WARNING:absl:Found untraced functions such as gru_cell_14_layer_call_fn, gru_cell_14_layer_call_and_return_conditional_losses, gru_cell_15_layer_call_fn, gru_cell_15_layer_call_and_return_conditional_losses while saving (showing 4 of 4). These functions will not be directly callable after loading.\n"
     ]
    },
    {
     "name": "stdout",
     "output_type": "stream",
     "text": [
      "INFO:tensorflow:Assets written to: /media/rmhri/mrom/data/model/angle_16_10/assets\n"
     ]
    },
    {
     "name": "stderr",
     "output_type": "stream",
     "text": [
      "INFO:tensorflow:Assets written to: /media/rmhri/mrom/data/model/angle_16_10/assets\n"
     ]
    },
    {
     "name": "stdout",
     "output_type": "stream",
     "text": [
      "40/40 [==============================] - 3s 68ms/step - loss: 0.0014 - mae: 0.0258 - val_loss: 0.0012 - val_mae: 0.0237\n",
      "Epoch 10/80\n",
      "38/40 [===========================>..] - ETA: 0s - loss: 0.0012 - mae: 0.0239"
     ]
    },
    {
     "name": "stderr",
     "output_type": "stream",
     "text": [
      "WARNING:absl:Found untraced functions such as gru_cell_14_layer_call_fn, gru_cell_14_layer_call_and_return_conditional_losses, gru_cell_15_layer_call_fn, gru_cell_15_layer_call_and_return_conditional_losses while saving (showing 4 of 4). These functions will not be directly callable after loading.\n"
     ]
    },
    {
     "name": "stdout",
     "output_type": "stream",
     "text": [
      "INFO:tensorflow:Assets written to: /media/rmhri/mrom/data/model/angle_16_10/assets\n"
     ]
    },
    {
     "name": "stderr",
     "output_type": "stream",
     "text": [
      "INFO:tensorflow:Assets written to: /media/rmhri/mrom/data/model/angle_16_10/assets\n"
     ]
    },
    {
     "name": "stdout",
     "output_type": "stream",
     "text": [
      "40/40 [==============================] - 2s 63ms/step - loss: 0.0012 - mae: 0.0238 - val_loss: 0.0011 - val_mae: 0.0219\n",
      "Epoch 11/80\n",
      "39/40 [============================>.] - ETA: 0s - loss: 0.0011 - mae: 0.0222"
     ]
    },
    {
     "name": "stderr",
     "output_type": "stream",
     "text": [
      "WARNING:absl:Found untraced functions such as gru_cell_14_layer_call_fn, gru_cell_14_layer_call_and_return_conditional_losses, gru_cell_15_layer_call_fn, gru_cell_15_layer_call_and_return_conditional_losses while saving (showing 4 of 4). These functions will not be directly callable after loading.\n"
     ]
    },
    {
     "name": "stdout",
     "output_type": "stream",
     "text": [
      "INFO:tensorflow:Assets written to: /media/rmhri/mrom/data/model/angle_16_10/assets\n"
     ]
    },
    {
     "name": "stderr",
     "output_type": "stream",
     "text": [
      "INFO:tensorflow:Assets written to: /media/rmhri/mrom/data/model/angle_16_10/assets\n"
     ]
    },
    {
     "name": "stdout",
     "output_type": "stream",
     "text": [
      "40/40 [==============================] - 3s 70ms/step - loss: 0.0011 - mae: 0.0222 - val_loss: 9.4355e-04 - val_mae: 0.0204\n",
      "Epoch 12/80\n",
      "36/40 [==========================>...] - ETA: 0s - loss: 9.4786e-04 - mae: 0.0206"
     ]
    },
    {
     "name": "stderr",
     "output_type": "stream",
     "text": [
      "WARNING:absl:Found untraced functions such as gru_cell_14_layer_call_fn, gru_cell_14_layer_call_and_return_conditional_losses, gru_cell_15_layer_call_fn, gru_cell_15_layer_call_and_return_conditional_losses while saving (showing 4 of 4). These functions will not be directly callable after loading.\n"
     ]
    },
    {
     "name": "stdout",
     "output_type": "stream",
     "text": [
      "INFO:tensorflow:Assets written to: /media/rmhri/mrom/data/model/angle_16_10/assets\n"
     ]
    },
    {
     "name": "stderr",
     "output_type": "stream",
     "text": [
      "INFO:tensorflow:Assets written to: /media/rmhri/mrom/data/model/angle_16_10/assets\n"
     ]
    },
    {
     "name": "stdout",
     "output_type": "stream",
     "text": [
      "40/40 [==============================] - 3s 67ms/step - loss: 9.5111e-04 - mae: 0.0207 - val_loss: 8.4266e-04 - val_mae: 0.0191\n",
      "Epoch 13/80\n",
      "37/40 [==========================>...] - ETA: 0s - loss: 8.4913e-04 - mae: 0.0194"
     ]
    },
    {
     "name": "stderr",
     "output_type": "stream",
     "text": [
      "WARNING:absl:Found untraced functions such as gru_cell_14_layer_call_fn, gru_cell_14_layer_call_and_return_conditional_losses, gru_cell_15_layer_call_fn, gru_cell_15_layer_call_and_return_conditional_losses while saving (showing 4 of 4). These functions will not be directly callable after loading.\n"
     ]
    },
    {
     "name": "stdout",
     "output_type": "stream",
     "text": [
      "INFO:tensorflow:Assets written to: /media/rmhri/mrom/data/model/angle_16_10/assets\n"
     ]
    },
    {
     "name": "stderr",
     "output_type": "stream",
     "text": [
      "INFO:tensorflow:Assets written to: /media/rmhri/mrom/data/model/angle_16_10/assets\n"
     ]
    },
    {
     "name": "stdout",
     "output_type": "stream",
     "text": [
      "40/40 [==============================] - 2s 63ms/step - loss: 8.5027e-04 - mae: 0.0194 - val_loss: 7.6078e-04 - val_mae: 0.0180\n",
      "Epoch 14/80\n",
      "36/40 [==========================>...] - ETA: 0s - loss: 7.7366e-04 - mae: 0.0184"
     ]
    },
    {
     "name": "stderr",
     "output_type": "stream",
     "text": [
      "WARNING:absl:Found untraced functions such as gru_cell_14_layer_call_fn, gru_cell_14_layer_call_and_return_conditional_losses, gru_cell_15_layer_call_fn, gru_cell_15_layer_call_and_return_conditional_losses while saving (showing 4 of 4). These functions will not be directly callable after loading.\n"
     ]
    },
    {
     "name": "stdout",
     "output_type": "stream",
     "text": [
      "INFO:tensorflow:Assets written to: /media/rmhri/mrom/data/model/angle_16_10/assets\n"
     ]
    },
    {
     "name": "stderr",
     "output_type": "stream",
     "text": [
      "INFO:tensorflow:Assets written to: /media/rmhri/mrom/data/model/angle_16_10/assets\n"
     ]
    },
    {
     "name": "stdout",
     "output_type": "stream",
     "text": [
      "40/40 [==============================] - 3s 70ms/step - loss: 7.6645e-04 - mae: 0.0183 - val_loss: 6.9219e-04 - val_mae: 0.0169\n",
      "Epoch 15/80\n",
      "37/40 [==========================>...] - ETA: 0s - loss: 7.0225e-04 - mae: 0.0173"
     ]
    },
    {
     "name": "stderr",
     "output_type": "stream",
     "text": [
      "WARNING:absl:Found untraced functions such as gru_cell_14_layer_call_fn, gru_cell_14_layer_call_and_return_conditional_losses, gru_cell_15_layer_call_fn, gru_cell_15_layer_call_and_return_conditional_losses while saving (showing 4 of 4). These functions will not be directly callable after loading.\n"
     ]
    },
    {
     "name": "stdout",
     "output_type": "stream",
     "text": [
      "INFO:tensorflow:Assets written to: /media/rmhri/mrom/data/model/angle_16_10/assets\n"
     ]
    },
    {
     "name": "stderr",
     "output_type": "stream",
     "text": [
      "INFO:tensorflow:Assets written to: /media/rmhri/mrom/data/model/angle_16_10/assets\n"
     ]
    },
    {
     "name": "stdout",
     "output_type": "stream",
     "text": [
      "40/40 [==============================] - 2s 63ms/step - loss: 6.9945e-04 - mae: 0.0173 - val_loss: 6.3618e-04 - val_mae: 0.0160\n",
      "Epoch 16/80\n",
      "37/40 [==========================>...] - ETA: 0s - loss: 6.4949e-04 - mae: 0.0166"
     ]
    },
    {
     "name": "stderr",
     "output_type": "stream",
     "text": [
      "WARNING:absl:Found untraced functions such as gru_cell_14_layer_call_fn, gru_cell_14_layer_call_and_return_conditional_losses, gru_cell_15_layer_call_fn, gru_cell_15_layer_call_and_return_conditional_losses while saving (showing 4 of 4). These functions will not be directly callable after loading.\n"
     ]
    },
    {
     "name": "stdout",
     "output_type": "stream",
     "text": [
      "INFO:tensorflow:Assets written to: /media/rmhri/mrom/data/model/angle_16_10/assets\n"
     ]
    },
    {
     "name": "stderr",
     "output_type": "stream",
     "text": [
      "INFO:tensorflow:Assets written to: /media/rmhri/mrom/data/model/angle_16_10/assets\n"
     ]
    },
    {
     "name": "stdout",
     "output_type": "stream",
     "text": [
      "40/40 [==============================] - 3s 70ms/step - loss: 6.4639e-04 - mae: 0.0165 - val_loss: 5.9063e-04 - val_mae: 0.0152\n",
      "Epoch 17/80\n",
      "36/40 [==========================>...] - ETA: 0s - loss: 6.0560e-04 - mae: 0.0158"
     ]
    },
    {
     "name": "stderr",
     "output_type": "stream",
     "text": [
      "WARNING:absl:Found untraced functions such as gru_cell_14_layer_call_fn, gru_cell_14_layer_call_and_return_conditional_losses, gru_cell_15_layer_call_fn, gru_cell_15_layer_call_and_return_conditional_losses while saving (showing 4 of 4). These functions will not be directly callable after loading.\n"
     ]
    },
    {
     "name": "stdout",
     "output_type": "stream",
     "text": [
      "INFO:tensorflow:Assets written to: /media/rmhri/mrom/data/model/angle_16_10/assets\n"
     ]
    },
    {
     "name": "stderr",
     "output_type": "stream",
     "text": [
      "INFO:tensorflow:Assets written to: /media/rmhri/mrom/data/model/angle_16_10/assets\n"
     ]
    },
    {
     "name": "stdout",
     "output_type": "stream",
     "text": [
      "40/40 [==============================] - 2s 60ms/step - loss: 6.0217e-04 - mae: 0.0157 - val_loss: 5.5386e-04 - val_mae: 0.0146\n",
      "Epoch 18/80\n",
      "37/40 [==========================>...] - ETA: 0s - loss: 5.7006e-04 - mae: 0.0151"
     ]
    },
    {
     "name": "stderr",
     "output_type": "stream",
     "text": [
      "WARNING:absl:Found untraced functions such as gru_cell_14_layer_call_fn, gru_cell_14_layer_call_and_return_conditional_losses, gru_cell_15_layer_call_fn, gru_cell_15_layer_call_and_return_conditional_losses while saving (showing 4 of 4). These functions will not be directly callable after loading.\n"
     ]
    },
    {
     "name": "stdout",
     "output_type": "stream",
     "text": [
      "INFO:tensorflow:Assets written to: /media/rmhri/mrom/data/model/angle_16_10/assets\n"
     ]
    },
    {
     "name": "stderr",
     "output_type": "stream",
     "text": [
      "INFO:tensorflow:Assets written to: /media/rmhri/mrom/data/model/angle_16_10/assets\n"
     ]
    },
    {
     "name": "stdout",
     "output_type": "stream",
     "text": [
      "40/40 [==============================] - 3s 69ms/step - loss: 5.6475e-04 - mae: 0.0151 - val_loss: 5.2287e-04 - val_mae: 0.0139\n",
      "Epoch 19/80\n",
      "37/40 [==========================>...] - ETA: 0s - loss: 5.3532e-04 - mae: 0.0146"
     ]
    },
    {
     "name": "stderr",
     "output_type": "stream",
     "text": [
      "WARNING:absl:Found untraced functions such as gru_cell_14_layer_call_fn, gru_cell_14_layer_call_and_return_conditional_losses, gru_cell_15_layer_call_fn, gru_cell_15_layer_call_and_return_conditional_losses while saving (showing 4 of 4). These functions will not be directly callable after loading.\n"
     ]
    },
    {
     "name": "stdout",
     "output_type": "stream",
     "text": [
      "INFO:tensorflow:Assets written to: /media/rmhri/mrom/data/model/angle_16_10/assets\n"
     ]
    },
    {
     "name": "stderr",
     "output_type": "stream",
     "text": [
      "INFO:tensorflow:Assets written to: /media/rmhri/mrom/data/model/angle_16_10/assets\n"
     ]
    },
    {
     "name": "stdout",
     "output_type": "stream",
     "text": [
      "40/40 [==============================] - 3s 68ms/step - loss: 5.3462e-04 - mae: 0.0145 - val_loss: 4.9510e-04 - val_mae: 0.0134\n",
      "Epoch 20/80\n",
      "39/40 [============================>.] - ETA: 0s - loss: 5.1182e-04 - mae: 0.0141"
     ]
    },
    {
     "name": "stderr",
     "output_type": "stream",
     "text": [
      "WARNING:absl:Found untraced functions such as gru_cell_14_layer_call_fn, gru_cell_14_layer_call_and_return_conditional_losses, gru_cell_15_layer_call_fn, gru_cell_15_layer_call_and_return_conditional_losses while saving (showing 4 of 4). These functions will not be directly callable after loading.\n"
     ]
    },
    {
     "name": "stdout",
     "output_type": "stream",
     "text": [
      "INFO:tensorflow:Assets written to: /media/rmhri/mrom/data/model/angle_16_10/assets\n"
     ]
    },
    {
     "name": "stderr",
     "output_type": "stream",
     "text": [
      "INFO:tensorflow:Assets written to: /media/rmhri/mrom/data/model/angle_16_10/assets\n"
     ]
    },
    {
     "name": "stdout",
     "output_type": "stream",
     "text": [
      "40/40 [==============================] - 2s 62ms/step - loss: 5.0941e-04 - mae: 0.0140 - val_loss: 4.7266e-04 - val_mae: 0.0128\n",
      "Epoch 21/80\n",
      "37/40 [==========================>...] - ETA: 0s - loss: 4.8315e-04 - mae: 0.0136"
     ]
    },
    {
     "name": "stderr",
     "output_type": "stream",
     "text": [
      "WARNING:absl:Found untraced functions such as gru_cell_14_layer_call_fn, gru_cell_14_layer_call_and_return_conditional_losses, gru_cell_15_layer_call_fn, gru_cell_15_layer_call_and_return_conditional_losses while saving (showing 4 of 4). These functions will not be directly callable after loading.\n"
     ]
    },
    {
     "name": "stdout",
     "output_type": "stream",
     "text": [
      "INFO:tensorflow:Assets written to: /media/rmhri/mrom/data/model/angle_16_10/assets\n"
     ]
    },
    {
     "name": "stderr",
     "output_type": "stream",
     "text": [
      "INFO:tensorflow:Assets written to: /media/rmhri/mrom/data/model/angle_16_10/assets\n"
     ]
    },
    {
     "name": "stdout",
     "output_type": "stream",
     "text": [
      "40/40 [==============================] - 3s 70ms/step - loss: 4.8524e-04 - mae: 0.0136 - val_loss: 4.5364e-04 - val_mae: 0.0124\n",
      "Epoch 22/80\n",
      "35/40 [=========================>....] - ETA: 0s - loss: 4.6665e-04 - mae: 0.0132"
     ]
    },
    {
     "name": "stderr",
     "output_type": "stream",
     "text": [
      "WARNING:absl:Found untraced functions such as gru_cell_14_layer_call_fn, gru_cell_14_layer_call_and_return_conditional_losses, gru_cell_15_layer_call_fn, gru_cell_15_layer_call_and_return_conditional_losses while saving (showing 4 of 4). These functions will not be directly callable after loading.\n"
     ]
    },
    {
     "name": "stdout",
     "output_type": "stream",
     "text": [
      "INFO:tensorflow:Assets written to: /media/rmhri/mrom/data/model/angle_16_10/assets\n"
     ]
    },
    {
     "name": "stderr",
     "output_type": "stream",
     "text": [
      "INFO:tensorflow:Assets written to: /media/rmhri/mrom/data/model/angle_16_10/assets\n"
     ]
    },
    {
     "name": "stdout",
     "output_type": "stream",
     "text": [
      "40/40 [==============================] - 2s 62ms/step - loss: 4.6759e-04 - mae: 0.0132 - val_loss: 4.3741e-04 - val_mae: 0.0120\n",
      "Epoch 23/80\n",
      "38/40 [===========================>..] - ETA: 0s - loss: 4.4992e-04 - mae: 0.0128"
     ]
    },
    {
     "name": "stderr",
     "output_type": "stream",
     "text": [
      "WARNING:absl:Found untraced functions such as gru_cell_14_layer_call_fn, gru_cell_14_layer_call_and_return_conditional_losses, gru_cell_15_layer_call_fn, gru_cell_15_layer_call_and_return_conditional_losses while saving (showing 4 of 4). These functions will not be directly callable after loading.\n"
     ]
    },
    {
     "name": "stdout",
     "output_type": "stream",
     "text": [
      "INFO:tensorflow:Assets written to: /media/rmhri/mrom/data/model/angle_16_10/assets\n"
     ]
    },
    {
     "name": "stderr",
     "output_type": "stream",
     "text": [
      "INFO:tensorflow:Assets written to: /media/rmhri/mrom/data/model/angle_16_10/assets\n"
     ]
    },
    {
     "name": "stdout",
     "output_type": "stream",
     "text": [
      "40/40 [==============================] - 3s 70ms/step - loss: 4.5095e-04 - mae: 0.0128 - val_loss: 4.2309e-04 - val_mae: 0.0117\n",
      "Epoch 24/80\n",
      "39/40 [============================>.] - ETA: 0s - loss: 4.3749e-04 - mae: 0.0125"
     ]
    },
    {
     "name": "stderr",
     "output_type": "stream",
     "text": [
      "WARNING:absl:Found untraced functions such as gru_cell_14_layer_call_fn, gru_cell_14_layer_call_and_return_conditional_losses, gru_cell_15_layer_call_fn, gru_cell_15_layer_call_and_return_conditional_losses while saving (showing 4 of 4). These functions will not be directly callable after loading.\n"
     ]
    },
    {
     "name": "stdout",
     "output_type": "stream",
     "text": [
      "INFO:tensorflow:Assets written to: /media/rmhri/mrom/data/model/angle_16_10/assets\n"
     ]
    },
    {
     "name": "stderr",
     "output_type": "stream",
     "text": [
      "INFO:tensorflow:Assets written to: /media/rmhri/mrom/data/model/angle_16_10/assets\n"
     ]
    },
    {
     "name": "stdout",
     "output_type": "stream",
     "text": [
      "40/40 [==============================] - 3s 68ms/step - loss: 4.3678e-04 - mae: 0.0125 - val_loss: 4.1141e-04 - val_mae: 0.0114\n",
      "Epoch 25/80\n",
      "38/40 [===========================>..] - ETA: 0s - loss: 4.2371e-04 - mae: 0.0123"
     ]
    },
    {
     "name": "stderr",
     "output_type": "stream",
     "text": [
      "WARNING:absl:Found untraced functions such as gru_cell_14_layer_call_fn, gru_cell_14_layer_call_and_return_conditional_losses, gru_cell_15_layer_call_fn, gru_cell_15_layer_call_and_return_conditional_losses while saving (showing 4 of 4). These functions will not be directly callable after loading.\n"
     ]
    },
    {
     "name": "stdout",
     "output_type": "stream",
     "text": [
      "INFO:tensorflow:Assets written to: /media/rmhri/mrom/data/model/angle_16_10/assets\n"
     ]
    },
    {
     "name": "stderr",
     "output_type": "stream",
     "text": [
      "INFO:tensorflow:Assets written to: /media/rmhri/mrom/data/model/angle_16_10/assets\n"
     ]
    },
    {
     "name": "stdout",
     "output_type": "stream",
     "text": [
      "40/40 [==============================] - 2s 62ms/step - loss: 4.2561e-04 - mae: 0.0123 - val_loss: 3.9922e-04 - val_mae: 0.0111\n",
      "Epoch 26/80\n",
      "38/40 [===========================>..] - ETA: 0s - loss: 4.1580e-04 - mae: 0.0120"
     ]
    },
    {
     "name": "stderr",
     "output_type": "stream",
     "text": [
      "WARNING:absl:Found untraced functions such as gru_cell_14_layer_call_fn, gru_cell_14_layer_call_and_return_conditional_losses, gru_cell_15_layer_call_fn, gru_cell_15_layer_call_and_return_conditional_losses while saving (showing 4 of 4). These functions will not be directly callable after loading.\n"
     ]
    },
    {
     "name": "stdout",
     "output_type": "stream",
     "text": [
      "INFO:tensorflow:Assets written to: /media/rmhri/mrom/data/model/angle_16_10/assets\n"
     ]
    },
    {
     "name": "stderr",
     "output_type": "stream",
     "text": [
      "INFO:tensorflow:Assets written to: /media/rmhri/mrom/data/model/angle_16_10/assets\n"
     ]
    },
    {
     "name": "stdout",
     "output_type": "stream",
     "text": [
      "40/40 [==============================] - 3s 71ms/step - loss: 4.1413e-04 - mae: 0.0120 - val_loss: 3.9148e-04 - val_mae: 0.0108\n",
      "Epoch 27/80\n",
      "39/40 [============================>.] - ETA: 0s - loss: 4.0267e-04 - mae: 0.0118"
     ]
    },
    {
     "name": "stderr",
     "output_type": "stream",
     "text": [
      "WARNING:absl:Found untraced functions such as gru_cell_14_layer_call_fn, gru_cell_14_layer_call_and_return_conditional_losses, gru_cell_15_layer_call_fn, gru_cell_15_layer_call_and_return_conditional_losses while saving (showing 4 of 4). These functions will not be directly callable after loading.\n"
     ]
    },
    {
     "name": "stdout",
     "output_type": "stream",
     "text": [
      "INFO:tensorflow:Assets written to: /media/rmhri/mrom/data/model/angle_16_10/assets\n"
     ]
    },
    {
     "name": "stderr",
     "output_type": "stream",
     "text": [
      "INFO:tensorflow:Assets written to: /media/rmhri/mrom/data/model/angle_16_10/assets\n"
     ]
    },
    {
     "name": "stdout",
     "output_type": "stream",
     "text": [
      "40/40 [==============================] - 2s 62ms/step - loss: 4.0476e-04 - mae: 0.0118 - val_loss: 3.8177e-04 - val_mae: 0.0106\n",
      "Epoch 28/80\n",
      "38/40 [===========================>..] - ETA: 0s - loss: 3.9784e-04 - mae: 0.0116"
     ]
    },
    {
     "name": "stderr",
     "output_type": "stream",
     "text": [
      "WARNING:absl:Found untraced functions such as gru_cell_14_layer_call_fn, gru_cell_14_layer_call_and_return_conditional_losses, gru_cell_15_layer_call_fn, gru_cell_15_layer_call_and_return_conditional_losses while saving (showing 4 of 4). These functions will not be directly callable after loading.\n"
     ]
    },
    {
     "name": "stdout",
     "output_type": "stream",
     "text": [
      "INFO:tensorflow:Assets written to: /media/rmhri/mrom/data/model/angle_16_10/assets\n"
     ]
    },
    {
     "name": "stderr",
     "output_type": "stream",
     "text": [
      "INFO:tensorflow:Assets written to: /media/rmhri/mrom/data/model/angle_16_10/assets\n"
     ]
    },
    {
     "name": "stdout",
     "output_type": "stream",
     "text": [
      "40/40 [==============================] - 3s 70ms/step - loss: 3.9718e-04 - mae: 0.0116 - val_loss: 3.7394e-04 - val_mae: 0.0104\n",
      "Epoch 29/80\n",
      "37/40 [==========================>...] - ETA: 0s - loss: 3.9205e-04 - mae: 0.0115"
     ]
    },
    {
     "name": "stderr",
     "output_type": "stream",
     "text": [
      "WARNING:absl:Found untraced functions such as gru_cell_14_layer_call_fn, gru_cell_14_layer_call_and_return_conditional_losses, gru_cell_15_layer_call_fn, gru_cell_15_layer_call_and_return_conditional_losses while saving (showing 4 of 4). These functions will not be directly callable after loading.\n"
     ]
    },
    {
     "name": "stdout",
     "output_type": "stream",
     "text": [
      "INFO:tensorflow:Assets written to: /media/rmhri/mrom/data/model/angle_16_10/assets\n"
     ]
    },
    {
     "name": "stderr",
     "output_type": "stream",
     "text": [
      "INFO:tensorflow:Assets written to: /media/rmhri/mrom/data/model/angle_16_10/assets\n"
     ]
    },
    {
     "name": "stdout",
     "output_type": "stream",
     "text": [
      "40/40 [==============================] - 3s 68ms/step - loss: 3.9138e-04 - mae: 0.0115 - val_loss: 3.6871e-04 - val_mae: 0.0103\n",
      "Epoch 30/80\n",
      "37/40 [==========================>...] - ETA: 0s - loss: 3.8288e-04 - mae: 0.0113"
     ]
    },
    {
     "name": "stderr",
     "output_type": "stream",
     "text": [
      "WARNING:absl:Found untraced functions such as gru_cell_14_layer_call_fn, gru_cell_14_layer_call_and_return_conditional_losses, gru_cell_15_layer_call_fn, gru_cell_15_layer_call_and_return_conditional_losses while saving (showing 4 of 4). These functions will not be directly callable after loading.\n"
     ]
    },
    {
     "name": "stdout",
     "output_type": "stream",
     "text": [
      "INFO:tensorflow:Assets written to: /media/rmhri/mrom/data/model/angle_16_10/assets\n"
     ]
    },
    {
     "name": "stderr",
     "output_type": "stream",
     "text": [
      "INFO:tensorflow:Assets written to: /media/rmhri/mrom/data/model/angle_16_10/assets\n"
     ]
    },
    {
     "name": "stdout",
     "output_type": "stream",
     "text": [
      "40/40 [==============================] - 2s 63ms/step - loss: 3.8299e-04 - mae: 0.0113 - val_loss: 3.6240e-04 - val_mae: 0.0101\n",
      "Epoch 31/80\n",
      "37/40 [==========================>...] - ETA: 0s - loss: 3.7426e-04 - mae: 0.0112"
     ]
    },
    {
     "name": "stderr",
     "output_type": "stream",
     "text": [
      "WARNING:absl:Found untraced functions such as gru_cell_14_layer_call_fn, gru_cell_14_layer_call_and_return_conditional_losses, gru_cell_15_layer_call_fn, gru_cell_15_layer_call_and_return_conditional_losses while saving (showing 4 of 4). These functions will not be directly callable after loading.\n"
     ]
    },
    {
     "name": "stdout",
     "output_type": "stream",
     "text": [
      "INFO:tensorflow:Assets written to: /media/rmhri/mrom/data/model/angle_16_10/assets\n"
     ]
    },
    {
     "name": "stderr",
     "output_type": "stream",
     "text": [
      "INFO:tensorflow:Assets written to: /media/rmhri/mrom/data/model/angle_16_10/assets\n"
     ]
    },
    {
     "name": "stdout",
     "output_type": "stream",
     "text": [
      "40/40 [==============================] - 3s 70ms/step - loss: 3.7676e-04 - mae: 0.0112 - val_loss: 3.5493e-04 - val_mae: 0.0099\n",
      "Epoch 32/80\n",
      "36/40 [==========================>...] - ETA: 0s - loss: 3.6754e-04 - mae: 0.0110"
     ]
    },
    {
     "name": "stderr",
     "output_type": "stream",
     "text": [
      "WARNING:absl:Found untraced functions such as gru_cell_14_layer_call_fn, gru_cell_14_layer_call_and_return_conditional_losses, gru_cell_15_layer_call_fn, gru_cell_15_layer_call_and_return_conditional_losses while saving (showing 4 of 4). These functions will not be directly callable after loading.\n"
     ]
    },
    {
     "name": "stdout",
     "output_type": "stream",
     "text": [
      "INFO:tensorflow:Assets written to: /media/rmhri/mrom/data/model/angle_16_10/assets\n"
     ]
    },
    {
     "name": "stderr",
     "output_type": "stream",
     "text": [
      "INFO:tensorflow:Assets written to: /media/rmhri/mrom/data/model/angle_16_10/assets\n"
     ]
    },
    {
     "name": "stdout",
     "output_type": "stream",
     "text": [
      "40/40 [==============================] - 2s 61ms/step - loss: 3.7219e-04 - mae: 0.0111 - val_loss: 3.5034e-04 - val_mae: 0.0098\n",
      "Epoch 33/80\n",
      "39/40 [============================>.] - ETA: 0s - loss: 3.6957e-04 - mae: 0.0110"
     ]
    },
    {
     "name": "stderr",
     "output_type": "stream",
     "text": [
      "WARNING:absl:Found untraced functions such as gru_cell_14_layer_call_fn, gru_cell_14_layer_call_and_return_conditional_losses, gru_cell_15_layer_call_fn, gru_cell_15_layer_call_and_return_conditional_losses while saving (showing 4 of 4). These functions will not be directly callable after loading.\n"
     ]
    },
    {
     "name": "stdout",
     "output_type": "stream",
     "text": [
      "INFO:tensorflow:Assets written to: /media/rmhri/mrom/data/model/angle_16_10/assets\n"
     ]
    },
    {
     "name": "stderr",
     "output_type": "stream",
     "text": [
      "INFO:tensorflow:Assets written to: /media/rmhri/mrom/data/model/angle_16_10/assets\n"
     ]
    },
    {
     "name": "stdout",
     "output_type": "stream",
     "text": [
      "40/40 [==============================] - 3s 69ms/step - loss: 3.6740e-04 - mae: 0.0110 - val_loss: 3.4438e-04 - val_mae: 0.0097\n",
      "Epoch 34/80\n",
      "35/40 [=========================>....] - ETA: 0s - loss: 3.7129e-04 - mae: 0.0109"
     ]
    },
    {
     "name": "stderr",
     "output_type": "stream",
     "text": [
      "WARNING:absl:Found untraced functions such as gru_cell_14_layer_call_fn, gru_cell_14_layer_call_and_return_conditional_losses, gru_cell_15_layer_call_fn, gru_cell_15_layer_call_and_return_conditional_losses while saving (showing 4 of 4). These functions will not be directly callable after loading.\n"
     ]
    },
    {
     "name": "stdout",
     "output_type": "stream",
     "text": [
      "INFO:tensorflow:Assets written to: /media/rmhri/mrom/data/model/angle_16_10/assets\n"
     ]
    },
    {
     "name": "stderr",
     "output_type": "stream",
     "text": [
      "INFO:tensorflow:Assets written to: /media/rmhri/mrom/data/model/angle_16_10/assets\n"
     ]
    },
    {
     "name": "stdout",
     "output_type": "stream",
     "text": [
      "40/40 [==============================] - 3s 67ms/step - loss: 3.6115e-04 - mae: 0.0108 - val_loss: 3.3994e-04 - val_mae: 0.0096\n",
      "Epoch 35/80\n",
      "39/40 [============================>.] - ETA: 0s - loss: 3.5704e-04 - mae: 0.0107"
     ]
    },
    {
     "name": "stderr",
     "output_type": "stream",
     "text": [
      "WARNING:absl:Found untraced functions such as gru_cell_14_layer_call_fn, gru_cell_14_layer_call_and_return_conditional_losses, gru_cell_15_layer_call_fn, gru_cell_15_layer_call_and_return_conditional_losses while saving (showing 4 of 4). These functions will not be directly callable after loading.\n"
     ]
    },
    {
     "name": "stdout",
     "output_type": "stream",
     "text": [
      "INFO:tensorflow:Assets written to: /media/rmhri/mrom/data/model/angle_16_10/assets\n"
     ]
    },
    {
     "name": "stderr",
     "output_type": "stream",
     "text": [
      "INFO:tensorflow:Assets written to: /media/rmhri/mrom/data/model/angle_16_10/assets\n"
     ]
    },
    {
     "name": "stdout",
     "output_type": "stream",
     "text": [
      "40/40 [==============================] - 2s 62ms/step - loss: 3.5537e-04 - mae: 0.0107 - val_loss: 3.3560e-04 - val_mae: 0.0095\n",
      "Epoch 36/80\n",
      "38/40 [===========================>..] - ETA: 0s - loss: 3.5140e-04 - mae: 0.0107"
     ]
    },
    {
     "name": "stderr",
     "output_type": "stream",
     "text": [
      "WARNING:absl:Found untraced functions such as gru_cell_14_layer_call_fn, gru_cell_14_layer_call_and_return_conditional_losses, gru_cell_15_layer_call_fn, gru_cell_15_layer_call_and_return_conditional_losses while saving (showing 4 of 4). These functions will not be directly callable after loading.\n"
     ]
    },
    {
     "name": "stdout",
     "output_type": "stream",
     "text": [
      "INFO:tensorflow:Assets written to: /media/rmhri/mrom/data/model/angle_16_10/assets\n"
     ]
    },
    {
     "name": "stderr",
     "output_type": "stream",
     "text": [
      "INFO:tensorflow:Assets written to: /media/rmhri/mrom/data/model/angle_16_10/assets\n"
     ]
    },
    {
     "name": "stdout",
     "output_type": "stream",
     "text": [
      "40/40 [==============================] - 3s 70ms/step - loss: 3.5074e-04 - mae: 0.0107 - val_loss: 3.3167e-04 - val_mae: 0.0094\n",
      "Epoch 37/80\n",
      "37/40 [==========================>...] - ETA: 0s - loss: 3.5370e-04 - mae: 0.0106"
     ]
    },
    {
     "name": "stderr",
     "output_type": "stream",
     "text": [
      "WARNING:absl:Found untraced functions such as gru_cell_14_layer_call_fn, gru_cell_14_layer_call_and_return_conditional_losses, gru_cell_15_layer_call_fn, gru_cell_15_layer_call_and_return_conditional_losses while saving (showing 4 of 4). These functions will not be directly callable after loading.\n"
     ]
    },
    {
     "name": "stdout",
     "output_type": "stream",
     "text": [
      "INFO:tensorflow:Assets written to: /media/rmhri/mrom/data/model/angle_16_10/assets\n"
     ]
    },
    {
     "name": "stderr",
     "output_type": "stream",
     "text": [
      "INFO:tensorflow:Assets written to: /media/rmhri/mrom/data/model/angle_16_10/assets\n"
     ]
    },
    {
     "name": "stdout",
     "output_type": "stream",
     "text": [
      "40/40 [==============================] - 2s 63ms/step - loss: 3.4826e-04 - mae: 0.0106 - val_loss: 3.2691e-04 - val_mae: 0.0093\n",
      "Epoch 38/80\n",
      "37/40 [==========================>...] - ETA: 0s - loss: 3.4726e-04 - mae: 0.0105"
     ]
    },
    {
     "name": "stderr",
     "output_type": "stream",
     "text": [
      "WARNING:absl:Found untraced functions such as gru_cell_14_layer_call_fn, gru_cell_14_layer_call_and_return_conditional_losses, gru_cell_15_layer_call_fn, gru_cell_15_layer_call_and_return_conditional_losses while saving (showing 4 of 4). These functions will not be directly callable after loading.\n"
     ]
    },
    {
     "name": "stdout",
     "output_type": "stream",
     "text": [
      "INFO:tensorflow:Assets written to: /media/rmhri/mrom/data/model/angle_16_10/assets\n"
     ]
    },
    {
     "name": "stderr",
     "output_type": "stream",
     "text": [
      "INFO:tensorflow:Assets written to: /media/rmhri/mrom/data/model/angle_16_10/assets\n"
     ]
    },
    {
     "name": "stdout",
     "output_type": "stream",
     "text": [
      "40/40 [==============================] - 3s 70ms/step - loss: 3.4270e-04 - mae: 0.0105 - val_loss: 3.2354e-04 - val_mae: 0.0092\n",
      "Epoch 39/80\n",
      "39/40 [============================>.] - ETA: 0s - loss: 3.4142e-04 - mae: 0.0105"
     ]
    },
    {
     "name": "stderr",
     "output_type": "stream",
     "text": [
      "WARNING:absl:Found untraced functions such as gru_cell_14_layer_call_fn, gru_cell_14_layer_call_and_return_conditional_losses, gru_cell_15_layer_call_fn, gru_cell_15_layer_call_and_return_conditional_losses while saving (showing 4 of 4). These functions will not be directly callable after loading.\n"
     ]
    },
    {
     "name": "stdout",
     "output_type": "stream",
     "text": [
      "INFO:tensorflow:Assets written to: /media/rmhri/mrom/data/model/angle_16_10/assets\n"
     ]
    },
    {
     "name": "stderr",
     "output_type": "stream",
     "text": [
      "INFO:tensorflow:Assets written to: /media/rmhri/mrom/data/model/angle_16_10/assets\n"
     ]
    },
    {
     "name": "stdout",
     "output_type": "stream",
     "text": [
      "40/40 [==============================] - 3s 69ms/step - loss: 3.3916e-04 - mae: 0.0104 - val_loss: 3.1843e-04 - val_mae: 0.0091\n",
      "Epoch 40/80\n",
      "37/40 [==========================>...] - ETA: 0s - loss: 3.2954e-04 - mae: 0.0103"
     ]
    },
    {
     "name": "stderr",
     "output_type": "stream",
     "text": [
      "WARNING:absl:Found untraced functions such as gru_cell_14_layer_call_fn, gru_cell_14_layer_call_and_return_conditional_losses, gru_cell_15_layer_call_fn, gru_cell_15_layer_call_and_return_conditional_losses while saving (showing 4 of 4). These functions will not be directly callable after loading.\n"
     ]
    },
    {
     "name": "stdout",
     "output_type": "stream",
     "text": [
      "INFO:tensorflow:Assets written to: /media/rmhri/mrom/data/model/angle_16_10/assets\n"
     ]
    },
    {
     "name": "stderr",
     "output_type": "stream",
     "text": [
      "INFO:tensorflow:Assets written to: /media/rmhri/mrom/data/model/angle_16_10/assets\n"
     ]
    },
    {
     "name": "stdout",
     "output_type": "stream",
     "text": [
      "40/40 [==============================] - 2s 63ms/step - loss: 3.3285e-04 - mae: 0.0103 - val_loss: 3.1466e-04 - val_mae: 0.0090\n",
      "Epoch 41/80\n",
      "38/40 [===========================>..] - ETA: 0s - loss: 3.3252e-04 - mae: 0.0103"
     ]
    },
    {
     "name": "stderr",
     "output_type": "stream",
     "text": [
      "WARNING:absl:Found untraced functions such as gru_cell_14_layer_call_fn, gru_cell_14_layer_call_and_return_conditional_losses, gru_cell_15_layer_call_fn, gru_cell_15_layer_call_and_return_conditional_losses while saving (showing 4 of 4). These functions will not be directly callable after loading.\n"
     ]
    },
    {
     "name": "stdout",
     "output_type": "stream",
     "text": [
      "INFO:tensorflow:Assets written to: /media/rmhri/mrom/data/model/angle_16_10/assets\n"
     ]
    },
    {
     "name": "stderr",
     "output_type": "stream",
     "text": [
      "INFO:tensorflow:Assets written to: /media/rmhri/mrom/data/model/angle_16_10/assets\n"
     ]
    },
    {
     "name": "stdout",
     "output_type": "stream",
     "text": [
      "40/40 [==============================] - 3s 71ms/step - loss: 3.3006e-04 - mae: 0.0102 - val_loss: 3.0948e-04 - val_mae: 0.0089\n",
      "Epoch 42/80\n",
      "40/40 [==============================] - ETA: 0s - loss: 3.2730e-04 - mae: 0.0102"
     ]
    },
    {
     "name": "stderr",
     "output_type": "stream",
     "text": [
      "WARNING:absl:Found untraced functions such as gru_cell_14_layer_call_fn, gru_cell_14_layer_call_and_return_conditional_losses, gru_cell_15_layer_call_fn, gru_cell_15_layer_call_and_return_conditional_losses while saving (showing 4 of 4). These functions will not be directly callable after loading.\n"
     ]
    },
    {
     "name": "stdout",
     "output_type": "stream",
     "text": [
      "INFO:tensorflow:Assets written to: /media/rmhri/mrom/data/model/angle_16_10/assets\n"
     ]
    },
    {
     "name": "stderr",
     "output_type": "stream",
     "text": [
      "INFO:tensorflow:Assets written to: /media/rmhri/mrom/data/model/angle_16_10/assets\n"
     ]
    },
    {
     "name": "stdout",
     "output_type": "stream",
     "text": [
      "40/40 [==============================] - 2s 62ms/step - loss: 3.2730e-04 - mae: 0.0102 - val_loss: 3.0718e-04 - val_mae: 0.0089\n",
      "Epoch 43/80\n",
      "40/40 [==============================] - ETA: 0s - loss: 3.2337e-04 - mae: 0.0101"
     ]
    },
    {
     "name": "stderr",
     "output_type": "stream",
     "text": [
      "WARNING:absl:Found untraced functions such as gru_cell_14_layer_call_fn, gru_cell_14_layer_call_and_return_conditional_losses, gru_cell_15_layer_call_fn, gru_cell_15_layer_call_and_return_conditional_losses while saving (showing 4 of 4). These functions will not be directly callable after loading.\n"
     ]
    },
    {
     "name": "stdout",
     "output_type": "stream",
     "text": [
      "INFO:tensorflow:Assets written to: /media/rmhri/mrom/data/model/angle_16_10/assets\n"
     ]
    },
    {
     "name": "stderr",
     "output_type": "stream",
     "text": [
      "INFO:tensorflow:Assets written to: /media/rmhri/mrom/data/model/angle_16_10/assets\n"
     ]
    },
    {
     "name": "stdout",
     "output_type": "stream",
     "text": [
      "40/40 [==============================] - 3s 70ms/step - loss: 3.2337e-04 - mae: 0.0101 - val_loss: 3.0228e-04 - val_mae: 0.0088\n",
      "Epoch 44/80\n",
      "40/40 [==============================] - ETA: 0s - loss: 3.1891e-04 - mae: 0.0100"
     ]
    },
    {
     "name": "stderr",
     "output_type": "stream",
     "text": [
      "WARNING:absl:Found untraced functions such as gru_cell_14_layer_call_fn, gru_cell_14_layer_call_and_return_conditional_losses, gru_cell_15_layer_call_fn, gru_cell_15_layer_call_and_return_conditional_losses while saving (showing 4 of 4). These functions will not be directly callable after loading.\n"
     ]
    },
    {
     "name": "stdout",
     "output_type": "stream",
     "text": [
      "INFO:tensorflow:Assets written to: /media/rmhri/mrom/data/model/angle_16_10/assets\n"
     ]
    },
    {
     "name": "stderr",
     "output_type": "stream",
     "text": [
      "INFO:tensorflow:Assets written to: /media/rmhri/mrom/data/model/angle_16_10/assets\n"
     ]
    },
    {
     "name": "stdout",
     "output_type": "stream",
     "text": [
      "40/40 [==============================] - 3s 67ms/step - loss: 3.1891e-04 - mae: 0.0100 - val_loss: 2.9805e-04 - val_mae: 0.0087\n",
      "Epoch 45/80\n",
      "38/40 [===========================>..] - ETA: 0s - loss: 3.1584e-04 - mae: 0.0100"
     ]
    },
    {
     "name": "stderr",
     "output_type": "stream",
     "text": [
      "WARNING:absl:Found untraced functions such as gru_cell_14_layer_call_fn, gru_cell_14_layer_call_and_return_conditional_losses, gru_cell_15_layer_call_fn, gru_cell_15_layer_call_and_return_conditional_losses while saving (showing 4 of 4). These functions will not be directly callable after loading.\n"
     ]
    },
    {
     "name": "stdout",
     "output_type": "stream",
     "text": [
      "INFO:tensorflow:Assets written to: /media/rmhri/mrom/data/model/angle_16_10/assets\n"
     ]
    },
    {
     "name": "stderr",
     "output_type": "stream",
     "text": [
      "INFO:tensorflow:Assets written to: /media/rmhri/mrom/data/model/angle_16_10/assets\n"
     ]
    },
    {
     "name": "stdout",
     "output_type": "stream",
     "text": [
      "40/40 [==============================] - 2s 61ms/step - loss: 3.1509e-04 - mae: 0.0100 - val_loss: 2.9512e-04 - val_mae: 0.0086\n",
      "Epoch 46/80\n",
      "37/40 [==========================>...] - ETA: 0s - loss: 3.0938e-04 - mae: 0.0099"
     ]
    },
    {
     "name": "stderr",
     "output_type": "stream",
     "text": [
      "WARNING:absl:Found untraced functions such as gru_cell_14_layer_call_fn, gru_cell_14_layer_call_and_return_conditional_losses, gru_cell_15_layer_call_fn, gru_cell_15_layer_call_and_return_conditional_losses while saving (showing 4 of 4). These functions will not be directly callable after loading.\n"
     ]
    },
    {
     "name": "stdout",
     "output_type": "stream",
     "text": [
      "INFO:tensorflow:Assets written to: /media/rmhri/mrom/data/model/angle_16_10/assets\n"
     ]
    },
    {
     "name": "stderr",
     "output_type": "stream",
     "text": [
      "INFO:tensorflow:Assets written to: /media/rmhri/mrom/data/model/angle_16_10/assets\n"
     ]
    },
    {
     "name": "stdout",
     "output_type": "stream",
     "text": [
      "40/40 [==============================] - 3s 71ms/step - loss: 3.1059e-04 - mae: 0.0099 - val_loss: 2.9112e-04 - val_mae: 0.0086\n",
      "Epoch 47/80\n",
      "39/40 [============================>.] - ETA: 0s - loss: 3.0844e-04 - mae: 0.0099"
     ]
    },
    {
     "name": "stderr",
     "output_type": "stream",
     "text": [
      "WARNING:absl:Found untraced functions such as gru_cell_14_layer_call_fn, gru_cell_14_layer_call_and_return_conditional_losses, gru_cell_15_layer_call_fn, gru_cell_15_layer_call_and_return_conditional_losses while saving (showing 4 of 4). These functions will not be directly callable after loading.\n"
     ]
    },
    {
     "name": "stdout",
     "output_type": "stream",
     "text": [
      "INFO:tensorflow:Assets written to: /media/rmhri/mrom/data/model/angle_16_10/assets\n"
     ]
    },
    {
     "name": "stderr",
     "output_type": "stream",
     "text": [
      "INFO:tensorflow:Assets written to: /media/rmhri/mrom/data/model/angle_16_10/assets\n"
     ]
    },
    {
     "name": "stdout",
     "output_type": "stream",
     "text": [
      "40/40 [==============================] - 3s 68ms/step - loss: 3.0660e-04 - mae: 0.0098 - val_loss: 2.8830e-04 - val_mae: 0.0085\n",
      "Epoch 48/80\n",
      "37/40 [==========================>...] - ETA: 0s - loss: 3.0667e-04 - mae: 0.0098"
     ]
    },
    {
     "name": "stderr",
     "output_type": "stream",
     "text": [
      "WARNING:absl:Found untraced functions such as gru_cell_14_layer_call_fn, gru_cell_14_layer_call_and_return_conditional_losses, gru_cell_15_layer_call_fn, gru_cell_15_layer_call_and_return_conditional_losses while saving (showing 4 of 4). These functions will not be directly callable after loading.\n"
     ]
    },
    {
     "name": "stdout",
     "output_type": "stream",
     "text": [
      "INFO:tensorflow:Assets written to: /media/rmhri/mrom/data/model/angle_16_10/assets\n"
     ]
    },
    {
     "name": "stderr",
     "output_type": "stream",
     "text": [
      "INFO:tensorflow:Assets written to: /media/rmhri/mrom/data/model/angle_16_10/assets\n"
     ]
    },
    {
     "name": "stdout",
     "output_type": "stream",
     "text": [
      "40/40 [==============================] - 2s 62ms/step - loss: 3.0327e-04 - mae: 0.0098 - val_loss: 2.8527e-04 - val_mae: 0.0085\n",
      "Epoch 49/80\n",
      "36/40 [==========================>...] - ETA: 0s - loss: 3.0223e-04 - mae: 0.0098"
     ]
    },
    {
     "name": "stderr",
     "output_type": "stream",
     "text": [
      "WARNING:absl:Found untraced functions such as gru_cell_14_layer_call_fn, gru_cell_14_layer_call_and_return_conditional_losses, gru_cell_15_layer_call_fn, gru_cell_15_layer_call_and_return_conditional_losses while saving (showing 4 of 4). These functions will not be directly callable after loading.\n"
     ]
    },
    {
     "name": "stdout",
     "output_type": "stream",
     "text": [
      "INFO:tensorflow:Assets written to: /media/rmhri/mrom/data/model/angle_16_10/assets\n"
     ]
    },
    {
     "name": "stderr",
     "output_type": "stream",
     "text": [
      "INFO:tensorflow:Assets written to: /media/rmhri/mrom/data/model/angle_16_10/assets\n"
     ]
    },
    {
     "name": "stdout",
     "output_type": "stream",
     "text": [
      "40/40 [==============================] - 3s 70ms/step - loss: 3.0045e-04 - mae: 0.0097 - val_loss: 2.8142e-04 - val_mae: 0.0084\n",
      "Epoch 50/80\n",
      "38/40 [===========================>..] - ETA: 0s - loss: 3.0318e-04 - mae: 0.0097"
     ]
    },
    {
     "name": "stderr",
     "output_type": "stream",
     "text": [
      "WARNING:absl:Found untraced functions such as gru_cell_14_layer_call_fn, gru_cell_14_layer_call_and_return_conditional_losses, gru_cell_15_layer_call_fn, gru_cell_15_layer_call_and_return_conditional_losses while saving (showing 4 of 4). These functions will not be directly callable after loading.\n"
     ]
    },
    {
     "name": "stdout",
     "output_type": "stream",
     "text": [
      "INFO:tensorflow:Assets written to: /media/rmhri/mrom/data/model/angle_16_10/assets\n"
     ]
    },
    {
     "name": "stderr",
     "output_type": "stream",
     "text": [
      "INFO:tensorflow:Assets written to: /media/rmhri/mrom/data/model/angle_16_10/assets\n"
     ]
    },
    {
     "name": "stdout",
     "output_type": "stream",
     "text": [
      "40/40 [==============================] - 2s 63ms/step - loss: 2.9831e-04 - mae: 0.0097 - val_loss: 2.7738e-04 - val_mae: 0.0083\n",
      "Epoch 51/80\n",
      "40/40 [==============================] - ETA: 0s - loss: 2.9345e-04 - mae: 0.0096"
     ]
    },
    {
     "name": "stderr",
     "output_type": "stream",
     "text": [
      "WARNING:absl:Found untraced functions such as gru_cell_14_layer_call_fn, gru_cell_14_layer_call_and_return_conditional_losses, gru_cell_15_layer_call_fn, gru_cell_15_layer_call_and_return_conditional_losses while saving (showing 4 of 4). These functions will not be directly callable after loading.\n"
     ]
    },
    {
     "name": "stdout",
     "output_type": "stream",
     "text": [
      "INFO:tensorflow:Assets written to: /media/rmhri/mrom/data/model/angle_16_10/assets\n"
     ]
    },
    {
     "name": "stderr",
     "output_type": "stream",
     "text": [
      "INFO:tensorflow:Assets written to: /media/rmhri/mrom/data/model/angle_16_10/assets\n"
     ]
    },
    {
     "name": "stdout",
     "output_type": "stream",
     "text": [
      "40/40 [==============================] - 3s 68ms/step - loss: 2.9345e-04 - mae: 0.0096 - val_loss: 2.7335e-04 - val_mae: 0.0082\n",
      "Epoch 52/80\n",
      "37/40 [==========================>...] - ETA: 0s - loss: 2.9189e-04 - mae: 0.0095"
     ]
    },
    {
     "name": "stderr",
     "output_type": "stream",
     "text": [
      "WARNING:absl:Found untraced functions such as gru_cell_14_layer_call_fn, gru_cell_14_layer_call_and_return_conditional_losses, gru_cell_15_layer_call_fn, gru_cell_15_layer_call_and_return_conditional_losses while saving (showing 4 of 4). These functions will not be directly callable after loading.\n"
     ]
    },
    {
     "name": "stdout",
     "output_type": "stream",
     "text": [
      "INFO:tensorflow:Assets written to: /media/rmhri/mrom/data/model/angle_16_10/assets\n"
     ]
    },
    {
     "name": "stderr",
     "output_type": "stream",
     "text": [
      "INFO:tensorflow:Assets written to: /media/rmhri/mrom/data/model/angle_16_10/assets\n"
     ]
    },
    {
     "name": "stdout",
     "output_type": "stream",
     "text": [
      "40/40 [==============================] - 2s 63ms/step - loss: 2.9093e-04 - mae: 0.0095 - val_loss: 2.7077e-04 - val_mae: 0.0082\n",
      "Epoch 53/80\n",
      "37/40 [==========================>...] - ETA: 0s - loss: 2.8869e-04 - mae: 0.0095"
     ]
    },
    {
     "name": "stderr",
     "output_type": "stream",
     "text": [
      "WARNING:absl:Found untraced functions such as gru_cell_14_layer_call_fn, gru_cell_14_layer_call_and_return_conditional_losses, gru_cell_15_layer_call_fn, gru_cell_15_layer_call_and_return_conditional_losses while saving (showing 4 of 4). These functions will not be directly callable after loading.\n"
     ]
    },
    {
     "name": "stdout",
     "output_type": "stream",
     "text": [
      "INFO:tensorflow:Assets written to: /media/rmhri/mrom/data/model/angle_16_10/assets\n"
     ]
    },
    {
     "name": "stderr",
     "output_type": "stream",
     "text": [
      "INFO:tensorflow:Assets written to: /media/rmhri/mrom/data/model/angle_16_10/assets\n"
     ]
    },
    {
     "name": "stdout",
     "output_type": "stream",
     "text": [
      "40/40 [==============================] - 3s 70ms/step - loss: 2.8622e-04 - mae: 0.0095 - val_loss: 2.6761e-04 - val_mae: 0.0081\n",
      "Epoch 54/80\n",
      "37/40 [==========================>...] - ETA: 0s - loss: 2.8668e-04 - mae: 0.0095"
     ]
    },
    {
     "name": "stderr",
     "output_type": "stream",
     "text": [
      "WARNING:absl:Found untraced functions such as gru_cell_14_layer_call_fn, gru_cell_14_layer_call_and_return_conditional_losses, gru_cell_15_layer_call_fn, gru_cell_15_layer_call_and_return_conditional_losses while saving (showing 4 of 4). These functions will not be directly callable after loading.\n"
     ]
    },
    {
     "name": "stdout",
     "output_type": "stream",
     "text": [
      "INFO:tensorflow:Assets written to: /media/rmhri/mrom/data/model/angle_16_10/assets\n"
     ]
    },
    {
     "name": "stderr",
     "output_type": "stream",
     "text": [
      "INFO:tensorflow:Assets written to: /media/rmhri/mrom/data/model/angle_16_10/assets\n"
     ]
    },
    {
     "name": "stdout",
     "output_type": "stream",
     "text": [
      "40/40 [==============================] - 3s 67ms/step - loss: 2.8338e-04 - mae: 0.0094 - val_loss: 2.6423e-04 - val_mae: 0.0081\n",
      "Epoch 55/80\n",
      "40/40 [==============================] - ETA: 0s - loss: 2.8188e-04 - mae: 0.0094"
     ]
    },
    {
     "name": "stderr",
     "output_type": "stream",
     "text": [
      "WARNING:absl:Found untraced functions such as gru_cell_14_layer_call_fn, gru_cell_14_layer_call_and_return_conditional_losses, gru_cell_15_layer_call_fn, gru_cell_15_layer_call_and_return_conditional_losses while saving (showing 4 of 4). These functions will not be directly callable after loading.\n"
     ]
    },
    {
     "name": "stdout",
     "output_type": "stream",
     "text": [
      "INFO:tensorflow:Assets written to: /media/rmhri/mrom/data/model/angle_16_10/assets\n"
     ]
    },
    {
     "name": "stderr",
     "output_type": "stream",
     "text": [
      "INFO:tensorflow:Assets written to: /media/rmhri/mrom/data/model/angle_16_10/assets\n"
     ]
    },
    {
     "name": "stdout",
     "output_type": "stream",
     "text": [
      "40/40 [==============================] - 2s 62ms/step - loss: 2.8188e-04 - mae: 0.0094 - val_loss: 2.6203e-04 - val_mae: 0.0080\n",
      "Epoch 56/80\n",
      "37/40 [==========================>...] - ETA: 0s - loss: 2.7874e-04 - mae: 0.0093"
     ]
    },
    {
     "name": "stderr",
     "output_type": "stream",
     "text": [
      "WARNING:absl:Found untraced functions such as gru_cell_14_layer_call_fn, gru_cell_14_layer_call_and_return_conditional_losses, gru_cell_15_layer_call_fn, gru_cell_15_layer_call_and_return_conditional_losses while saving (showing 4 of 4). These functions will not be directly callable after loading.\n"
     ]
    },
    {
     "name": "stdout",
     "output_type": "stream",
     "text": [
      "INFO:tensorflow:Assets written to: /media/rmhri/mrom/data/model/angle_16_10/assets\n"
     ]
    },
    {
     "name": "stderr",
     "output_type": "stream",
     "text": [
      "INFO:tensorflow:Assets written to: /media/rmhri/mrom/data/model/angle_16_10/assets\n"
     ]
    },
    {
     "name": "stdout",
     "output_type": "stream",
     "text": [
      "40/40 [==============================] - 3s 70ms/step - loss: 2.7867e-04 - mae: 0.0093 - val_loss: 2.5918e-04 - val_mae: 0.0080\n",
      "Epoch 57/80\n",
      "38/40 [===========================>..] - ETA: 0s - loss: 2.7922e-04 - mae: 0.0093"
     ]
    },
    {
     "name": "stderr",
     "output_type": "stream",
     "text": [
      "WARNING:absl:Found untraced functions such as gru_cell_14_layer_call_fn, gru_cell_14_layer_call_and_return_conditional_losses, gru_cell_15_layer_call_fn, gru_cell_15_layer_call_and_return_conditional_losses while saving (showing 4 of 4). These functions will not be directly callable after loading.\n"
     ]
    },
    {
     "name": "stdout",
     "output_type": "stream",
     "text": [
      "INFO:tensorflow:Assets written to: /media/rmhri/mrom/data/model/angle_16_10/assets\n"
     ]
    },
    {
     "name": "stderr",
     "output_type": "stream",
     "text": [
      "INFO:tensorflow:Assets written to: /media/rmhri/mrom/data/model/angle_16_10/assets\n"
     ]
    },
    {
     "name": "stdout",
     "output_type": "stream",
     "text": [
      "40/40 [==============================] - 2s 62ms/step - loss: 2.7628e-04 - mae: 0.0093 - val_loss: 2.5550e-04 - val_mae: 0.0079\n",
      "Epoch 58/80\n",
      "39/40 [============================>.] - ETA: 0s - loss: 2.7250e-04 - mae: 0.0092"
     ]
    },
    {
     "name": "stderr",
     "output_type": "stream",
     "text": [
      "WARNING:absl:Found untraced functions such as gru_cell_14_layer_call_fn, gru_cell_14_layer_call_and_return_conditional_losses, gru_cell_15_layer_call_fn, gru_cell_15_layer_call_and_return_conditional_losses while saving (showing 4 of 4). These functions will not be directly callable after loading.\n"
     ]
    },
    {
     "name": "stdout",
     "output_type": "stream",
     "text": [
      "INFO:tensorflow:Assets written to: /media/rmhri/mrom/data/model/angle_16_10/assets\n"
     ]
    },
    {
     "name": "stderr",
     "output_type": "stream",
     "text": [
      "INFO:tensorflow:Assets written to: /media/rmhri/mrom/data/model/angle_16_10/assets\n"
     ]
    },
    {
     "name": "stdout",
     "output_type": "stream",
     "text": [
      "40/40 [==============================] - 3s 70ms/step - loss: 2.7262e-04 - mae: 0.0092 - val_loss: 2.5201e-04 - val_mae: 0.0078\n",
      "Epoch 59/80\n",
      "38/40 [===========================>..] - ETA: 0s - loss: 2.6376e-04 - mae: 0.0091"
     ]
    },
    {
     "name": "stderr",
     "output_type": "stream",
     "text": [
      "WARNING:absl:Found untraced functions such as gru_cell_14_layer_call_fn, gru_cell_14_layer_call_and_return_conditional_losses, gru_cell_15_layer_call_fn, gru_cell_15_layer_call_and_return_conditional_losses while saving (showing 4 of 4). These functions will not be directly callable after loading.\n"
     ]
    },
    {
     "name": "stdout",
     "output_type": "stream",
     "text": [
      "INFO:tensorflow:Assets written to: /media/rmhri/mrom/data/model/angle_16_10/assets\n"
     ]
    },
    {
     "name": "stderr",
     "output_type": "stream",
     "text": [
      "INFO:tensorflow:Assets written to: /media/rmhri/mrom/data/model/angle_16_10/assets\n"
     ]
    },
    {
     "name": "stdout",
     "output_type": "stream",
     "text": [
      "40/40 [==============================] - 3s 68ms/step - loss: 2.6931e-04 - mae: 0.0092 - val_loss: 2.4969e-04 - val_mae: 0.0078\n",
      "Epoch 60/80\n",
      "37/40 [==========================>...] - ETA: 0s - loss: 2.6710e-04 - mae: 0.0091"
     ]
    },
    {
     "name": "stderr",
     "output_type": "stream",
     "text": [
      "WARNING:absl:Found untraced functions such as gru_cell_14_layer_call_fn, gru_cell_14_layer_call_and_return_conditional_losses, gru_cell_15_layer_call_fn, gru_cell_15_layer_call_and_return_conditional_losses while saving (showing 4 of 4). These functions will not be directly callable after loading.\n"
     ]
    },
    {
     "name": "stdout",
     "output_type": "stream",
     "text": [
      "INFO:tensorflow:Assets written to: /media/rmhri/mrom/data/model/angle_16_10/assets\n"
     ]
    },
    {
     "name": "stderr",
     "output_type": "stream",
     "text": [
      "INFO:tensorflow:Assets written to: /media/rmhri/mrom/data/model/angle_16_10/assets\n"
     ]
    },
    {
     "name": "stdout",
     "output_type": "stream",
     "text": [
      "40/40 [==============================] - 2s 62ms/step - loss: 2.6644e-04 - mae: 0.0091 - val_loss: 2.4710e-04 - val_mae: 0.0078\n",
      "Epoch 61/80\n",
      "40/40 [==============================] - 0s 12ms/step - loss: 2.6401e-04 - mae: 0.0091 - val_loss: 2.4513e-04 - val_mae: 0.0078\n",
      "Epoch 62/80\n",
      "38/40 [===========================>..] - ETA: 0s - loss: 2.6132e-04 - mae: 0.0090"
     ]
    },
    {
     "name": "stderr",
     "output_type": "stream",
     "text": [
      "WARNING:absl:Found untraced functions such as gru_cell_14_layer_call_fn, gru_cell_14_layer_call_and_return_conditional_losses, gru_cell_15_layer_call_fn, gru_cell_15_layer_call_and_return_conditional_losses while saving (showing 4 of 4). These functions will not be directly callable after loading.\n"
     ]
    },
    {
     "name": "stdout",
     "output_type": "stream",
     "text": [
      "INFO:tensorflow:Assets written to: /media/rmhri/mrom/data/model/angle_16_10/assets\n"
     ]
    },
    {
     "name": "stderr",
     "output_type": "stream",
     "text": [
      "INFO:tensorflow:Assets written to: /media/rmhri/mrom/data/model/angle_16_10/assets\n"
     ]
    },
    {
     "name": "stdout",
     "output_type": "stream",
     "text": [
      "40/40 [==============================] - 3s 71ms/step - loss: 2.6049e-04 - mae: 0.0090 - val_loss: 2.4077e-04 - val_mae: 0.0077\n",
      "Epoch 63/80\n",
      "36/40 [==========================>...] - ETA: 0s - loss: 2.6256e-04 - mae: 0.0091"
     ]
    },
    {
     "name": "stderr",
     "output_type": "stream",
     "text": [
      "WARNING:absl:Found untraced functions such as gru_cell_14_layer_call_fn, gru_cell_14_layer_call_and_return_conditional_losses, gru_cell_15_layer_call_fn, gru_cell_15_layer_call_and_return_conditional_losses while saving (showing 4 of 4). These functions will not be directly callable after loading.\n"
     ]
    },
    {
     "name": "stdout",
     "output_type": "stream",
     "text": [
      "INFO:tensorflow:Assets written to: /media/rmhri/mrom/data/model/angle_16_10/assets\n"
     ]
    },
    {
     "name": "stderr",
     "output_type": "stream",
     "text": [
      "INFO:tensorflow:Assets written to: /media/rmhri/mrom/data/model/angle_16_10/assets\n"
     ]
    },
    {
     "name": "stdout",
     "output_type": "stream",
     "text": [
      "40/40 [==============================] - 2s 62ms/step - loss: 2.5839e-04 - mae: 0.0090 - val_loss: 2.3900e-04 - val_mae: 0.0076\n",
      "Epoch 64/80\n",
      "40/40 [==============================] - ETA: 0s - loss: 2.5590e-04 - mae: 0.0089"
     ]
    },
    {
     "name": "stderr",
     "output_type": "stream",
     "text": [
      "WARNING:absl:Found untraced functions such as gru_cell_14_layer_call_fn, gru_cell_14_layer_call_and_return_conditional_losses, gru_cell_15_layer_call_fn, gru_cell_15_layer_call_and_return_conditional_losses while saving (showing 4 of 4). These functions will not be directly callable after loading.\n"
     ]
    },
    {
     "name": "stdout",
     "output_type": "stream",
     "text": [
      "INFO:tensorflow:Assets written to: /media/rmhri/mrom/data/model/angle_16_10/assets\n"
     ]
    },
    {
     "name": "stderr",
     "output_type": "stream",
     "text": [
      "INFO:tensorflow:Assets written to: /media/rmhri/mrom/data/model/angle_16_10/assets\n"
     ]
    },
    {
     "name": "stdout",
     "output_type": "stream",
     "text": [
      "40/40 [==============================] - 3s 70ms/step - loss: 2.5590e-04 - mae: 0.0089 - val_loss: 2.3557e-04 - val_mae: 0.0076\n",
      "Epoch 65/80\n",
      "39/40 [============================>.] - ETA: 0s - loss: 2.5351e-04 - mae: 0.0089"
     ]
    },
    {
     "name": "stderr",
     "output_type": "stream",
     "text": [
      "WARNING:absl:Found untraced functions such as gru_cell_14_layer_call_fn, gru_cell_14_layer_call_and_return_conditional_losses, gru_cell_15_layer_call_fn, gru_cell_15_layer_call_and_return_conditional_losses while saving (showing 4 of 4). These functions will not be directly callable after loading.\n"
     ]
    },
    {
     "name": "stdout",
     "output_type": "stream",
     "text": [
      "INFO:tensorflow:Assets written to: /media/rmhri/mrom/data/model/angle_16_10/assets\n"
     ]
    },
    {
     "name": "stderr",
     "output_type": "stream",
     "text": [
      "INFO:tensorflow:Assets written to: /media/rmhri/mrom/data/model/angle_16_10/assets\n"
     ]
    },
    {
     "name": "stdout",
     "output_type": "stream",
     "text": [
      "40/40 [==============================] - 3s 67ms/step - loss: 2.5256e-04 - mae: 0.0089 - val_loss: 2.3208e-04 - val_mae: 0.0076\n",
      "Epoch 66/80\n",
      "39/40 [============================>.] - ETA: 0s - loss: 2.4992e-04 - mae: 0.0089"
     ]
    },
    {
     "name": "stderr",
     "output_type": "stream",
     "text": [
      "WARNING:absl:Found untraced functions such as gru_cell_14_layer_call_fn, gru_cell_14_layer_call_and_return_conditional_losses, gru_cell_15_layer_call_fn, gru_cell_15_layer_call_and_return_conditional_losses while saving (showing 4 of 4). These functions will not be directly callable after loading.\n"
     ]
    },
    {
     "name": "stdout",
     "output_type": "stream",
     "text": [
      "INFO:tensorflow:Assets written to: /media/rmhri/mrom/data/model/angle_16_10/assets\n"
     ]
    },
    {
     "name": "stderr",
     "output_type": "stream",
     "text": [
      "INFO:tensorflow:Assets written to: /media/rmhri/mrom/data/model/angle_16_10/assets\n"
     ]
    },
    {
     "name": "stdout",
     "output_type": "stream",
     "text": [
      "40/40 [==============================] - 2s 62ms/step - loss: 2.4982e-04 - mae: 0.0089 - val_loss: 2.2960e-04 - val_mae: 0.0075\n",
      "Epoch 67/80\n",
      "39/40 [============================>.] - ETA: 0s - loss: 2.4671e-04 - mae: 0.0088"
     ]
    },
    {
     "name": "stderr",
     "output_type": "stream",
     "text": [
      "WARNING:absl:Found untraced functions such as gru_cell_14_layer_call_fn, gru_cell_14_layer_call_and_return_conditional_losses, gru_cell_15_layer_call_fn, gru_cell_15_layer_call_and_return_conditional_losses while saving (showing 4 of 4). These functions will not be directly callable after loading.\n"
     ]
    },
    {
     "name": "stdout",
     "output_type": "stream",
     "text": [
      "INFO:tensorflow:Assets written to: /media/rmhri/mrom/data/model/angle_16_10/assets\n"
     ]
    },
    {
     "name": "stderr",
     "output_type": "stream",
     "text": [
      "INFO:tensorflow:Assets written to: /media/rmhri/mrom/data/model/angle_16_10/assets\n"
     ]
    },
    {
     "name": "stdout",
     "output_type": "stream",
     "text": [
      "40/40 [==============================] - 3s 70ms/step - loss: 2.4583e-04 - mae: 0.0088 - val_loss: 2.2748e-04 - val_mae: 0.0074\n",
      "Epoch 68/80\n",
      "40/40 [==============================] - ETA: 0s - loss: 2.4476e-04 - mae: 0.0088"
     ]
    },
    {
     "name": "stderr",
     "output_type": "stream",
     "text": [
      "WARNING:absl:Found untraced functions such as gru_cell_14_layer_call_fn, gru_cell_14_layer_call_and_return_conditional_losses, gru_cell_15_layer_call_fn, gru_cell_15_layer_call_and_return_conditional_losses while saving (showing 4 of 4). These functions will not be directly callable after loading.\n"
     ]
    },
    {
     "name": "stdout",
     "output_type": "stream",
     "text": [
      "INFO:tensorflow:Assets written to: /media/rmhri/mrom/data/model/angle_16_10/assets\n"
     ]
    },
    {
     "name": "stderr",
     "output_type": "stream",
     "text": [
      "INFO:tensorflow:Assets written to: /media/rmhri/mrom/data/model/angle_16_10/assets\n"
     ]
    },
    {
     "name": "stdout",
     "output_type": "stream",
     "text": [
      "40/40 [==============================] - 2s 63ms/step - loss: 2.4476e-04 - mae: 0.0088 - val_loss: 2.2479e-04 - val_mae: 0.0074\n",
      "Epoch 69/80\n",
      "38/40 [===========================>..] - ETA: 0s - loss: 2.4405e-04 - mae: 0.0087"
     ]
    },
    {
     "name": "stderr",
     "output_type": "stream",
     "text": [
      "WARNING:absl:Found untraced functions such as gru_cell_14_layer_call_fn, gru_cell_14_layer_call_and_return_conditional_losses, gru_cell_15_layer_call_fn, gru_cell_15_layer_call_and_return_conditional_losses while saving (showing 4 of 4). These functions will not be directly callable after loading.\n"
     ]
    },
    {
     "name": "stdout",
     "output_type": "stream",
     "text": [
      "INFO:tensorflow:Assets written to: /media/rmhri/mrom/data/model/angle_16_10/assets\n"
     ]
    },
    {
     "name": "stderr",
     "output_type": "stream",
     "text": [
      "INFO:tensorflow:Assets written to: /media/rmhri/mrom/data/model/angle_16_10/assets\n"
     ]
    },
    {
     "name": "stdout",
     "output_type": "stream",
     "text": [
      "40/40 [==============================] - 3s 70ms/step - loss: 2.4151e-04 - mae: 0.0087 - val_loss: 2.2194e-04 - val_mae: 0.0074\n",
      "Epoch 70/80\n",
      "38/40 [===========================>..] - ETA: 0s - loss: 2.3717e-04 - mae: 0.0087"
     ]
    },
    {
     "name": "stderr",
     "output_type": "stream",
     "text": [
      "WARNING:absl:Found untraced functions such as gru_cell_14_layer_call_fn, gru_cell_14_layer_call_and_return_conditional_losses, gru_cell_15_layer_call_fn, gru_cell_15_layer_call_and_return_conditional_losses while saving (showing 4 of 4). These functions will not be directly callable after loading.\n"
     ]
    },
    {
     "name": "stdout",
     "output_type": "stream",
     "text": [
      "INFO:tensorflow:Assets written to: /media/rmhri/mrom/data/model/angle_16_10/assets\n"
     ]
    },
    {
     "name": "stderr",
     "output_type": "stream",
     "text": [
      "INFO:tensorflow:Assets written to: /media/rmhri/mrom/data/model/angle_16_10/assets\n"
     ]
    },
    {
     "name": "stdout",
     "output_type": "stream",
     "text": [
      "40/40 [==============================] - 3s 68ms/step - loss: 2.3931e-04 - mae: 0.0087 - val_loss: 2.1879e-04 - val_mae: 0.0073\n",
      "Epoch 71/80\n",
      "38/40 [===========================>..] - ETA: 0s - loss: 2.3394e-04 - mae: 0.0086"
     ]
    },
    {
     "name": "stderr",
     "output_type": "stream",
     "text": [
      "WARNING:absl:Found untraced functions such as gru_cell_14_layer_call_fn, gru_cell_14_layer_call_and_return_conditional_losses, gru_cell_15_layer_call_fn, gru_cell_15_layer_call_and_return_conditional_losses while saving (showing 4 of 4). These functions will not be directly callable after loading.\n"
     ]
    },
    {
     "name": "stdout",
     "output_type": "stream",
     "text": [
      "INFO:tensorflow:Assets written to: /media/rmhri/mrom/data/model/angle_16_10/assets\n"
     ]
    },
    {
     "name": "stderr",
     "output_type": "stream",
     "text": [
      "INFO:tensorflow:Assets written to: /media/rmhri/mrom/data/model/angle_16_10/assets\n"
     ]
    },
    {
     "name": "stdout",
     "output_type": "stream",
     "text": [
      "40/40 [==============================] - 2s 63ms/step - loss: 2.3587e-04 - mae: 0.0086 - val_loss: 2.1591e-04 - val_mae: 0.0073\n",
      "Epoch 72/80\n",
      "37/40 [==========================>...] - ETA: 0s - loss: 2.3079e-04 - mae: 0.0086"
     ]
    },
    {
     "name": "stderr",
     "output_type": "stream",
     "text": [
      "WARNING:absl:Found untraced functions such as gru_cell_14_layer_call_fn, gru_cell_14_layer_call_and_return_conditional_losses, gru_cell_15_layer_call_fn, gru_cell_15_layer_call_and_return_conditional_losses while saving (showing 4 of 4). These functions will not be directly callable after loading.\n"
     ]
    },
    {
     "name": "stdout",
     "output_type": "stream",
     "text": [
      "INFO:tensorflow:Assets written to: /media/rmhri/mrom/data/model/angle_16_10/assets\n"
     ]
    },
    {
     "name": "stderr",
     "output_type": "stream",
     "text": [
      "INFO:tensorflow:Assets written to: /media/rmhri/mrom/data/model/angle_16_10/assets\n"
     ]
    },
    {
     "name": "stdout",
     "output_type": "stream",
     "text": [
      "40/40 [==============================] - 3s 71ms/step - loss: 2.3252e-04 - mae: 0.0086 - val_loss: 2.1426e-04 - val_mae: 0.0072\n",
      "Epoch 73/80\n",
      "39/40 [============================>.] - ETA: 0s - loss: 2.2870e-04 - mae: 0.0085"
     ]
    },
    {
     "name": "stderr",
     "output_type": "stream",
     "text": [
      "WARNING:absl:Found untraced functions such as gru_cell_14_layer_call_fn, gru_cell_14_layer_call_and_return_conditional_losses, gru_cell_15_layer_call_fn, gru_cell_15_layer_call_and_return_conditional_losses while saving (showing 4 of 4). These functions will not be directly callable after loading.\n"
     ]
    },
    {
     "name": "stdout",
     "output_type": "stream",
     "text": [
      "INFO:tensorflow:Assets written to: /media/rmhri/mrom/data/model/angle_16_10/assets\n"
     ]
    },
    {
     "name": "stderr",
     "output_type": "stream",
     "text": [
      "INFO:tensorflow:Assets written to: /media/rmhri/mrom/data/model/angle_16_10/assets\n"
     ]
    },
    {
     "name": "stdout",
     "output_type": "stream",
     "text": [
      "40/40 [==============================] - 2s 63ms/step - loss: 2.3094e-04 - mae: 0.0086 - val_loss: 2.1205e-04 - val_mae: 0.0072\n",
      "Epoch 74/80\n",
      "38/40 [===========================>..] - ETA: 0s - loss: 2.2836e-04 - mae: 0.0085"
     ]
    },
    {
     "name": "stderr",
     "output_type": "stream",
     "text": [
      "WARNING:absl:Found untraced functions such as gru_cell_14_layer_call_fn, gru_cell_14_layer_call_and_return_conditional_losses, gru_cell_15_layer_call_fn, gru_cell_15_layer_call_and_return_conditional_losses while saving (showing 4 of 4). These functions will not be directly callable after loading.\n"
     ]
    },
    {
     "name": "stdout",
     "output_type": "stream",
     "text": [
      "INFO:tensorflow:Assets written to: /media/rmhri/mrom/data/model/angle_16_10/assets\n"
     ]
    },
    {
     "name": "stderr",
     "output_type": "stream",
     "text": [
      "INFO:tensorflow:Assets written to: /media/rmhri/mrom/data/model/angle_16_10/assets\n"
     ]
    },
    {
     "name": "stdout",
     "output_type": "stream",
     "text": [
      "40/40 [==============================] - 3s 70ms/step - loss: 2.2708e-04 - mae: 0.0085 - val_loss: 2.0899e-04 - val_mae: 0.0072\n",
      "Epoch 75/80\n",
      "38/40 [===========================>..] - ETA: 0s - loss: 2.2701e-04 - mae: 0.0085"
     ]
    },
    {
     "name": "stderr",
     "output_type": "stream",
     "text": [
      "WARNING:absl:Found untraced functions such as gru_cell_14_layer_call_fn, gru_cell_14_layer_call_and_return_conditional_losses, gru_cell_15_layer_call_fn, gru_cell_15_layer_call_and_return_conditional_losses while saving (showing 4 of 4). These functions will not be directly callable after loading.\n"
     ]
    },
    {
     "name": "stdout",
     "output_type": "stream",
     "text": [
      "INFO:tensorflow:Assets written to: /media/rmhri/mrom/data/model/angle_16_10/assets\n"
     ]
    },
    {
     "name": "stderr",
     "output_type": "stream",
     "text": [
      "INFO:tensorflow:Assets written to: /media/rmhri/mrom/data/model/angle_16_10/assets\n"
     ]
    },
    {
     "name": "stdout",
     "output_type": "stream",
     "text": [
      "40/40 [==============================] - 3s 69ms/step - loss: 2.2532e-04 - mae: 0.0085 - val_loss: 2.0607e-04 - val_mae: 0.0071\n",
      "Epoch 76/80\n",
      "40/40 [==============================] - ETA: 0s - loss: 2.2406e-04 - mae: 0.0084"
     ]
    },
    {
     "name": "stderr",
     "output_type": "stream",
     "text": [
      "WARNING:absl:Found untraced functions such as gru_cell_14_layer_call_fn, gru_cell_14_layer_call_and_return_conditional_losses, gru_cell_15_layer_call_fn, gru_cell_15_layer_call_and_return_conditional_losses while saving (showing 4 of 4). These functions will not be directly callable after loading.\n"
     ]
    },
    {
     "name": "stdout",
     "output_type": "stream",
     "text": [
      "INFO:tensorflow:Assets written to: /media/rmhri/mrom/data/model/angle_16_10/assets\n"
     ]
    },
    {
     "name": "stderr",
     "output_type": "stream",
     "text": [
      "INFO:tensorflow:Assets written to: /media/rmhri/mrom/data/model/angle_16_10/assets\n"
     ]
    },
    {
     "name": "stdout",
     "output_type": "stream",
     "text": [
      "40/40 [==============================] - 2s 61ms/step - loss: 2.2406e-04 - mae: 0.0084 - val_loss: 2.0398e-04 - val_mae: 0.0071\n",
      "Epoch 77/80\n",
      "37/40 [==========================>...] - ETA: 0s - loss: 2.2117e-04 - mae: 0.0084"
     ]
    },
    {
     "name": "stderr",
     "output_type": "stream",
     "text": [
      "WARNING:absl:Found untraced functions such as gru_cell_14_layer_call_fn, gru_cell_14_layer_call_and_return_conditional_losses, gru_cell_15_layer_call_fn, gru_cell_15_layer_call_and_return_conditional_losses while saving (showing 4 of 4). These functions will not be directly callable after loading.\n"
     ]
    },
    {
     "name": "stdout",
     "output_type": "stream",
     "text": [
      "INFO:tensorflow:Assets written to: /media/rmhri/mrom/data/model/angle_16_10/assets\n"
     ]
    },
    {
     "name": "stderr",
     "output_type": "stream",
     "text": [
      "INFO:tensorflow:Assets written to: /media/rmhri/mrom/data/model/angle_16_10/assets\n"
     ]
    },
    {
     "name": "stdout",
     "output_type": "stream",
     "text": [
      "40/40 [==============================] - 3s 70ms/step - loss: 2.2118e-04 - mae: 0.0084 - val_loss: 2.0100e-04 - val_mae: 0.0070\n",
      "Epoch 78/80\n",
      "38/40 [===========================>..] - ETA: 0s - loss: 2.1872e-04 - mae: 0.0083"
     ]
    },
    {
     "name": "stderr",
     "output_type": "stream",
     "text": [
      "WARNING:absl:Found untraced functions such as gru_cell_14_layer_call_fn, gru_cell_14_layer_call_and_return_conditional_losses, gru_cell_15_layer_call_fn, gru_cell_15_layer_call_and_return_conditional_losses while saving (showing 4 of 4). These functions will not be directly callable after loading.\n"
     ]
    },
    {
     "name": "stdout",
     "output_type": "stream",
     "text": [
      "INFO:tensorflow:Assets written to: /media/rmhri/mrom/data/model/angle_16_10/assets\n"
     ]
    },
    {
     "name": "stderr",
     "output_type": "stream",
     "text": [
      "INFO:tensorflow:Assets written to: /media/rmhri/mrom/data/model/angle_16_10/assets\n"
     ]
    },
    {
     "name": "stdout",
     "output_type": "stream",
     "text": [
      "40/40 [==============================] - 2s 62ms/step - loss: 2.1937e-04 - mae: 0.0084 - val_loss: 1.9849e-04 - val_mae: 0.0070\n",
      "Epoch 79/80\n",
      "37/40 [==========================>...] - ETA: 0s - loss: 2.1608e-04 - mae: 0.0083"
     ]
    },
    {
     "name": "stderr",
     "output_type": "stream",
     "text": [
      "WARNING:absl:Found untraced functions such as gru_cell_14_layer_call_fn, gru_cell_14_layer_call_and_return_conditional_losses, gru_cell_15_layer_call_fn, gru_cell_15_layer_call_and_return_conditional_losses while saving (showing 4 of 4). These functions will not be directly callable after loading.\n"
     ]
    },
    {
     "name": "stdout",
     "output_type": "stream",
     "text": [
      "INFO:tensorflow:Assets written to: /media/rmhri/mrom/data/model/angle_16_10/assets\n"
     ]
    },
    {
     "name": "stderr",
     "output_type": "stream",
     "text": [
      "INFO:tensorflow:Assets written to: /media/rmhri/mrom/data/model/angle_16_10/assets\n"
     ]
    },
    {
     "name": "stdout",
     "output_type": "stream",
     "text": [
      "40/40 [==============================] - 3s 70ms/step - loss: 2.1625e-04 - mae: 0.0083 - val_loss: 1.9576e-04 - val_mae: 0.0069\n",
      "Epoch 80/80\n",
      "37/40 [==========================>...] - ETA: 0s - loss: 2.1310e-04 - mae: 0.0083"
     ]
    },
    {
     "name": "stderr",
     "output_type": "stream",
     "text": [
      "WARNING:absl:Found untraced functions such as gru_cell_14_layer_call_fn, gru_cell_14_layer_call_and_return_conditional_losses, gru_cell_15_layer_call_fn, gru_cell_15_layer_call_and_return_conditional_losses while saving (showing 4 of 4). These functions will not be directly callable after loading.\n"
     ]
    },
    {
     "name": "stdout",
     "output_type": "stream",
     "text": [
      "INFO:tensorflow:Assets written to: /media/rmhri/mrom/data/model/angle_16_10/assets\n"
     ]
    },
    {
     "name": "stderr",
     "output_type": "stream",
     "text": [
      "INFO:tensorflow:Assets written to: /media/rmhri/mrom/data/model/angle_16_10/assets\n"
     ]
    },
    {
     "name": "stdout",
     "output_type": "stream",
     "text": [
      "40/40 [==============================] - 3s 68ms/step - loss: 2.1433e-04 - mae: 0.0083 - val_loss: 1.9547e-04 - val_mae: 0.0069\n"
     ]
    }
   ],
   "source": [
    "# Build the model architecture\n",
    "X_train = np.load('/media/rmhri/mrom/data/train_dataset/X_train_' + str(timestep) + '_' + str(sample)+  '_angle.npy')\n",
    "y_train = np.load('/media/rmhri/mrom/data/train_dataset/y_train_' + str(timestep) + '_' + str(sample)+  '_angle.npy')\n",
    "X_val =   np.load('/media/rmhri/mrom/data/train_dataset/X_val_' + str(timestep) + '_' + str(sample)+  '_angle.npy')\n",
    "y_val =   np.load('/media/rmhri/mrom/data/train_dataset/y_val_' + str(timestep) + '_' + str(sample)+  '_angle.npy')\n",
    "\n",
    "model_path = '/media/rmhri/mrom/data/model/angle_'+str(timestep)+\"_\"+str(sample)\n",
    "checkpoint = ModelCheckpoint(model_path, monitor='val_mae', verbose=0, save_best_only=True, mode = 'min')\n",
    "callbacks_list = [checkpoint]\n",
    "\n",
    "model = keras.Sequential(\n",
    "    [\n",
    "    layers.GRU(1024, return_sequences=True ,input_shape=(timestep,20)),\n",
    "    layers.Dropout(0.1),\n",
    "\tlayers.GRU(1024, return_sequences=False),\n",
    "    # layers.Dropout(0.1),\n",
    "    layers.Dense(20)\n",
    "    ]\n",
    ")\n",
    "\n",
    "model.summary()\n",
    "opt = keras.optimizers.Adam(learning_rate=1e-5)\n",
    "model.compile(optimizer=opt, loss=\"mse\", metrics=[\"mae\"])\n",
    "history = model.fit(X_train, y_train, \n",
    "                    epochs=epochs, \n",
    "                    batch_size=batch_size, validation_data=(X_val,y_val) , callbacks=callbacks_list\n",
    "                    )\n",
    "# model.save(model_path)\n",
    "\n",
    "model.save(model_path+\".h5\",save_format=\"h5\")\n",
    " "
   ]
  },
  {
   "cell_type": "code",
   "execution_count": 2,
   "metadata": {},
   "outputs": [
    {
     "name": "stderr",
     "output_type": "stream",
     "text": [
      "2024-04-15 11:38:57.166296: I tensorflow/core/platform/cpu_feature_guard.cc:193] This TensorFlow binary is optimized with oneAPI Deep Neural Network Library (oneDNN) to use the following CPU instructions in performance-critical operations:  AVX2 AVX_VNNI FMA\n",
      "To enable them in other operations, rebuild TensorFlow with the appropriate compiler flags.\n",
      "2024-04-15 11:38:57.168003: I tensorflow/stream_executor/cuda/cuda_gpu_executor.cc:975] successful NUMA node read from SysFS had negative value (-1), but there must be at least one NUMA node, so returning NUMA node zero\n",
      "2024-04-15 11:38:57.168118: I tensorflow/stream_executor/cuda/cuda_gpu_executor.cc:975] successful NUMA node read from SysFS had negative value (-1), but there must be at least one NUMA node, so returning NUMA node zero\n",
      "2024-04-15 11:38:57.168162: I tensorflow/stream_executor/cuda/cuda_gpu_executor.cc:975] successful NUMA node read from SysFS had negative value (-1), but there must be at least one NUMA node, so returning NUMA node zero\n",
      "2024-04-15 11:38:57.454053: I tensorflow/stream_executor/cuda/cuda_gpu_executor.cc:975] successful NUMA node read from SysFS had negative value (-1), but there must be at least one NUMA node, so returning NUMA node zero\n",
      "2024-04-15 11:38:57.454149: I tensorflow/stream_executor/cuda/cuda_gpu_executor.cc:975] successful NUMA node read from SysFS had negative value (-1), but there must be at least one NUMA node, so returning NUMA node zero\n",
      "2024-04-15 11:38:57.454198: I tensorflow/stream_executor/cuda/cuda_gpu_executor.cc:975] successful NUMA node read from SysFS had negative value (-1), but there must be at least one NUMA node, so returning NUMA node zero\n",
      "2024-04-15 11:38:57.454249: I tensorflow/core/common_runtime/gpu/gpu_device.cc:1532] Created device /job:localhost/replica:0/task:0/device:GPU:0 with 21202 MB memory:  -> device: 0, name: NVIDIA GeForce RTX 3090 Ti, pci bus id: 0000:01:00.0, compute capability: 8.6\n"
     ]
    },
    {
     "name": "stdout",
     "output_type": "stream",
     "text": [
      "[[ 7.000e+00 -9.900e+00  2.710e+01  4.800e+00 -1.010e+01 -4.000e-01\n",
      "  -3.200e+00 -1.600e+01 -5.900e+00 -1.280e+01 -1.190e+01 -1.240e+01\n",
      "  -9.550e+01 -1.944e+02  1.985e+02  4.366e+02  1.460e+01 -1.641e+02\n",
      "  -6.360e+01  6.570e+01]]\n",
      "[   7.5   -7.2   28.7    4.    -9.3    0.    -4.   -16.2   -7.   -15.7\n",
      "  -13.   -14.7  -96.8 -203.5  205.2  446.9   15.1 -166.   -64.6   68.2]\n",
      "[ -0.51  -2.7   -1.61   0.85  -0.73  -0.41   0.82   0.21   1.17   2.83\n",
      "   1.11   2.31   1.24   9.07  -6.73 -10.35  -0.5    1.99   1.01  -2.51]\n"
     ]
    },
    {
     "name": "stderr",
     "output_type": "stream",
     "text": [
      "2024-04-15 11:38:58.769166: I tensorflow/stream_executor/cuda/cuda_dnn.cc:384] Loaded cuDNN version 8500\n",
      "2024-04-15 11:38:58.831142: I tensorflow/stream_executor/cuda/cuda_blas.cc:1786] TensorFloat-32 will be used for the matrix multiplication. This will only be logged once.\n"
     ]
    }
   ],
   "source": [
    "import matplotlib.pyplot as plt\n",
    "\n",
    "# Test\n",
    "X_train = np.load('/media/rmhri/mrom/data/train_dataset/X_train_' + str(timestep) + '_' + str(sample)+  '_angle.npy')\n",
    "y_train = np.load('/media/rmhri/mrom/data/train_dataset/y_train_' + str(timestep) + '_' + str(sample)+  '_angle.npy')\n",
    "X_val =   np.load('/media/rmhri/mrom/data/train_dataset/X_val_' + str(timestep) + '_' + str(sample)+  '_angle.npy')\n",
    "y_val =   np.load('/media/rmhri/mrom/data/train_dataset/y_val_' + str(timestep) + '_' + str(sample)+  '_angle.npy')\n",
    "X_test =   np.load('/media/rmhri/mrom/data/train_dataset/X_test_' + str(timestep) + '_' + str(sample)+  '_angle.npy')\n",
    "y_test =   np.load('/media/rmhri/mrom/data/train_dataset/y_test_' + str(timestep) + '_' + str(sample)+  '_angle.npy')\n",
    "\n",
    "model_path = '/media/rmhri/mrom/data/model/angle_'+str(timestep)+\"_\"+str(sample)\n",
    "\n",
    "model = keras.models.load_model(model_path + \".h5\")\n",
    "X_test.shape\n",
    "\n",
    "i = 0\n",
    "\n",
    "# results = model.evaluate(X_test, y_test, batch_size=128)\n",
    "# print(\"test loss, test acc:\", results)\n",
    "\n",
    "out = model(X_test[i,:,:].reshape(1,timestep,20))\n",
    "\n",
    "print(np.round(180*out.numpy(),1))\n",
    "print(np.round(180*y_test[i],1))\n",
    "print(np.round(180*out.numpy().squeeze() - 180*y_test[i] ,2))"
   ]
  },
  {
   "cell_type": "code",
   "execution_count": 3,
   "metadata": {},
   "outputs": [
    {
     "name": "stdout",
     "output_type": "stream",
     "text": [
      "[   7.5   -7.2   28.7    3.9   -9.3    0.    -4.   -16.2   -7.   -15.7\n",
      "  -13.   -14.7  -96.7 -203.5  205.2  447.    15.1 -166.   -64.6   68.3]\n"
     ]
    }
   ],
   "source": [
    "# Try with simple Polynomial fitting\n",
    "from numpy.polynomial import Polynomial\n",
    "\n",
    "polynomial_fits = []\n",
    "for k in range(20):  # Iterazione su ciascuna variabile\n",
    "    p = Polynomial.fit(range(timestep), X_test[i,:,k], 5)  # Fitting di un polinomio di grado 3\n",
    "    polynomial_fits.append(p)\n",
    "next_time_step = timestep + 1\n",
    "predicted_values = np.array([p(next_time_step) for p in polynomial_fits])\n",
    "print(np.round(180*predicted_values,1))"
   ]
  },
  {
   "cell_type": "code",
   "execution_count": 4,
   "metadata": {},
   "outputs": [
    {
     "name": "stdout",
     "output_type": "stream",
     "text": [
      "NN: 2.4 \tPF: 0.0\n",
      "NN: 4.4 \tPF: 0.1\n",
      "NN: 3.0 \tPF: 0.4\n",
      "NN: 3.4 \tPF: 0.5\n",
      "NN: 2.7 \tPF: 0.0\n",
      "NN: 4.1 \tPF: 0.1\n",
      "NN: 4.4 \tPF: 0.3\n",
      "NN: 4.1 \tPF: 0.0\n",
      "NN: 2.9 \tPF: 0.2\n",
      "NN: 1.9 \tPF: 0.0\n",
      "NN: 1.6 \tPF: 0.5\n",
      "NN: 4.7 \tPF: 1.2\n",
      "NN: 7.4 \tPF: 1.5\n",
      "NN: 9.2 \tPF: 0.5\n",
      "NN: 2.2 \tPF: 0.6\n",
      "NN: 3.2 \tPF: 0.2\n",
      "NN: 5.9 \tPF: 0.2\n",
      "NN: 7.9 \tPF: 0.6\n",
      "NN: 3.2 \tPF: 0.2\n",
      "NN: 2.8 \tPF: 0.4\n",
      "NN: 3.1 \tPF: 0.0\n",
      "NN: 2.9 \tPF: 0.9\n",
      "NN: 3.0 \tPF: 0.7\n",
      "NN: 4.3 \tPF: 0.7\n",
      "NN: 7.4 \tPF: 2.0\n",
      "NN: 1.7 \tPF: 0.6\n",
      "NN: 7.1 \tPF: 1.4\n",
      "NN: 2.3 \tPF: 0.2\n",
      "NN: 2.4 \tPF: 0.0\n",
      "NN: 2.4 \tPF: 1.1\n",
      "NN: 5.8 \tPF: 0.3\n",
      "NN: 5.4 \tPF: 0.3\n",
      "NN: 5.2 \tPF: 0.4\n",
      "NN: 7.6 \tPF: 0.1\n",
      "NN: 3.1 \tPF: 0.0\n",
      "NN: 6.3 \tPF: 0.6\n",
      "NN: 5.8 \tPF: 0.2\n",
      "NN: 6.0 \tPF: 0.3\n",
      "NN: 5.8 \tPF: 0.1\n",
      "NN: 7.0 \tPF: 0.4\n",
      "NN: 3.2 \tPF: 0.1\n",
      "NN: 3.6 \tPF: 0.1\n",
      "NN: 3.7 \tPF: 0.4\n",
      "NN: 3.5 \tPF: 0.2\n",
      "NN: 3.7 \tPF: 0.1\n",
      "NN: 3.6 \tPF: 0.1\n",
      "NN: 3.5 \tPF: 0.2\n",
      "NN: 3.4 \tPF: 0.2\n",
      "NN: 3.8 \tPF: 0.3\n",
      "NN: 2.3 \tPF: 0.1\n",
      "NN: 2.8 \tPF: 0.5\n",
      "NN: 2.2 \tPF: 0.2\n",
      "NN: 11.6 \tPF: 2.5\n",
      "NN: 6.8 \tPF: 1.7\n",
      "NN: 2.5 \tPF: 0.3\n",
      "NN: 3.2 \tPF: 0.4\n",
      "NN: 2.3 \tPF: 0.5\n",
      "NN: 9.2 \tPF: 11.3\n",
      "NN: 4.3 \tPF: 0.9\n",
      "NN: 7.0 \tPF: 3.0\n",
      "NN: 5.6 \tPF: 1.7\n",
      "NN: 2.9 \tPF: 0.2\n",
      "NN: 2.3 \tPF: 0.1\n",
      "NN: 2.3 \tPF: 0.1\n",
      "NN: 1.9 \tPF: 0.2\n",
      "NN: 2.2 \tPF: 0.2\n",
      "NN: 5.5 \tPF: 0.5\n",
      "NN: 2.5 \tPF: 0.0\n",
      "NN: 2.4 \tPF: 0.1\n",
      "NN: 2.1 \tPF: 0.2\n",
      "NN: 1.4 \tPF: 0.1\n",
      "NN: 1.4 \tPF: 0.1\n",
      "NN: 3.1 \tPF: 0.2\n",
      "NN: 2.4 \tPF: 0.1\n",
      "NN: 3.3 \tPF: 0.4\n",
      "NN: 1.1 \tPF: 0.1\n",
      "NN: 4.6 \tPF: 0.2\n",
      "NN: 1.1 \tPF: 0.3\n",
      "NN: 5.3 \tPF: 0.1\n",
      "NN: 1.9 \tPF: 0.0\n",
      "NN: 3.4 \tPF: 0.1\n",
      "NN: 4.4 \tPF: 0.5\n",
      "NN: 3.7 \tPF: 0.2\n",
      "NN: 3.2 \tPF: 0.1\n",
      "NN: 3.2 \tPF: 0.1\n",
      "NN: 3.0 \tPF: 0.7\n",
      "NN: 3.8 \tPF: 0.2\n",
      "NN: 3.0 \tPF: 0.2\n",
      "NN: 3.4 \tPF: 0.4\n",
      "NN: 3.3 \tPF: 0.6\n",
      "NN: 5.5 \tPF: 0.3\n",
      "NN: 4.2 \tPF: 0.6\n",
      "NN: 5.1 \tPF: 0.1\n",
      "NN: 4.5 \tPF: 0.2\n",
      "NN: 5.5 \tPF: 0.9\n",
      "NN: 3.3 \tPF: 0.1\n",
      "NN: 4.9 \tPF: 0.4\n",
      "NN: 3.6 \tPF: 0.1\n",
      "NN: 5.1 \tPF: 0.2\n",
      "NN: 5.1 \tPF: 3.8\n",
      "NN: 2.7 \tPF: 0.3\n",
      "NN: 3.8 \tPF: 0.1\n",
      "NN: 4.0 \tPF: 0.2\n",
      "NN: 3.8 \tPF: 1.1\n",
      "NN: 3.5 \tPF: 0.4\n",
      "NN: 3.2 \tPF: 0.0\n",
      "NN: 3.8 \tPF: 0.1\n",
      "NN: 2.3 \tPF: 0.0\n",
      "NN: 3.2 \tPF: 0.4\n",
      "NN: 3.8 \tPF: 0.1\n",
      "NN: 4.7 \tPF: 0.2\n",
      "NN: 4.9 \tPF: 1.0\n",
      "NN: 6.5 \tPF: 1.5\n",
      "NN: 2.9 \tPF: 0.6\n",
      "NN: 3.4 \tPF: 0.3\n",
      "NN: 5.6 \tPF: 1.5\n",
      "NN: 5.5 \tPF: 1.0\n",
      "NN: 7.4 \tPF: 1.3\n",
      "NN: 3.3 \tPF: 0.5\n",
      "NN: 4.6 \tPF: 1.2\n",
      "NN: 4.2 \tPF: 0.0\n",
      "NN: 3.4 \tPF: 0.6\n",
      "NN: 4.8 \tPF: 0.3\n",
      "NN: 4.0 \tPF: 0.2\n",
      "NN: 4.3 \tPF: 0.4\n",
      "NN: 4.1 \tPF: 0.3\n",
      "NN: 3.5 \tPF: 0.1\n",
      "NN: 3.5 \tPF: 0.1\n",
      "NN: 3.7 \tPF: 0.4\n",
      "NN: 3.5 \tPF: 0.3\n",
      "NN: 2.9 \tPF: 0.8\n",
      "NN: 2.4 \tPF: 0.9\n",
      "NN: 5.6 \tPF: 1.3\n",
      "NN: 5.4 \tPF: 1.2\n",
      "NN: 4.9 \tPF: 0.8\n",
      "NN: 2.7 \tPF: 0.7\n",
      "NN: 5.3 \tPF: 1.1\n",
      "NN: 6.7 \tPF: 1.3\n",
      "NN: 2.1 \tPF: 0.6\n",
      "NN: 3.8 \tPF: 1.0\n",
      "NN: 5.4 \tPF: 0.3\n",
      "NN: 6.6 \tPF: 0.1\n",
      "NN: 5.5 \tPF: 0.9\n",
      "NN: 5.8 \tPF: 0.2\n",
      "NN: 5.2 \tPF: 0.0\n",
      "NN: 5.3 \tPF: 0.1\n",
      "NN: 6.6 \tPF: 0.3\n",
      "NN: 5.3 \tPF: 0.5\n",
      "NN: 5.5 \tPF: 0.8\n",
      "NN: 5.5 \tPF: 0.4\n",
      "NN: 1.2 \tPF: 0.1\n",
      "NN: 1.4 \tPF: 0.1\n",
      "NN: 1.8 \tPF: 0.3\n",
      "NN: 1.4 \tPF: 0.0\n",
      "NN: 1.9 \tPF: 0.1\n",
      "NN: 1.5 \tPF: 0.0\n",
      "NN: 1.4 \tPF: 0.0\n",
      "NN: 1.3 \tPF: 0.0\n",
      "NN: 0.9 \tPF: 0.0\n",
      "NN: 1.4 \tPF: 0.1\n",
      "NN: 2.1 \tPF: 0.1\n",
      "NN: 3.1 \tPF: 1.0\n",
      "NN: 4.1 \tPF: 0.4\n",
      "NN: 4.6 \tPF: 0.6\n",
      "NN: 4.9 \tPF: 0.8\n",
      "NN: 5.8 \tPF: 0.6\n",
      "NN: 6.5 \tPF: 0.0\n",
      "NN: 6.0 \tPF: 0.6\n",
      "NN: 5.6 \tPF: 0.9\n",
      "NN: 3.5 \tPF: 0.2\n",
      "NN: 9.0 \tPF: 1.0\n",
      "NN: 3.4 \tPF: 0.5\n",
      "NN: 8.8 \tPF: 1.4\n",
      "NN: 1.9 \tPF: 0.3\n",
      "NN: 8.3 \tPF: 0.5\n",
      "NN: 5.6 \tPF: 0.8\n",
      "NN: 7.0 \tPF: 0.1\n",
      "NN: 6.4 \tPF: 0.8\n",
      "NN: 10.2 \tPF: 0.5\n",
      "NN: 2.1 \tPF: 0.9\n",
      "NN: 3.6 \tPF: 0.5\n",
      "NN: 3.1 \tPF: 0.1\n",
      "NN: 2.9 \tPF: 0.1\n",
      "NN: 2.6 \tPF: 0.3\n",
      "NN: 2.6 \tPF: 0.2\n",
      "NN: 2.5 \tPF: 0.2\n",
      "NN: 2.4 \tPF: 0.1\n",
      "NN: 2.6 \tPF: 0.1\n",
      "NN: 3.1 \tPF: 0.2\n",
      "NN: 3.1 \tPF: 0.1\n",
      "NN: 3.4 \tPF: 0.3\n",
      "NN: 5.1 \tPF: 0.2\n",
      "NN: 3.1 \tPF: 0.1\n",
      "NN: 3.5 \tPF: 0.4\n",
      "NN: 4.1 \tPF: 0.2\n",
      "NN: 3.5 \tPF: 0.1\n",
      "NN: 3.7 \tPF: 0.1\n",
      "NN: 5.0 \tPF: 0.7\n",
      "NN: 6.0 \tPF: 1.4\n",
      "NN: 2.9 \tPF: 0.5\n",
      "NN: 7.1 \tPF: 1.5\n",
      "NN: 3.2 \tPF: 0.2\n",
      "NN: 4.8 \tPF: 0.3\n",
      "NN: 4.7 \tPF: 1.3\n",
      "NN: 3.2 \tPF: 0.2\n",
      "NN: 2.9 \tPF: 0.2\n",
      "NN: 3.7 \tPF: 0.1\n",
      "NN: 4.4 \tPF: 0.2\n",
      "NN: 4.0 \tPF: 0.1\n",
      "NN: 4.2 \tPF: 0.3\n",
      "NN: 4.0 \tPF: 0.8\n",
      "NN: 4.9 \tPF: 0.3\n",
      "NN: 3.4 \tPF: 0.1\n",
      "NN: 2.9 \tPF: 0.1\n",
      "NN: 2.5 \tPF: 0.1\n",
      "NN: 2.7 \tPF: 0.2\n",
      "NN: 4.6 \tPF: 1.4\n",
      "NN: 3.4 \tPF: 0.1\n",
      "NN: 2.8 \tPF: 0.0\n",
      "NN: 3.7 \tPF: 0.1\n",
      "NN: 4.8 \tPF: 0.9\n",
      "NN: 2.4 \tPF: 0.1\n",
      "NN: 3.5 \tPF: 0.7\n",
      "NN: 4.3 \tPF: 0.2\n",
      "NN: 4.0 \tPF: 0.2\n",
      "NN: 4.9 \tPF: 0.5\n",
      "NN: 6.1 \tPF: 0.1\n",
      "NN: 2.9 \tPF: 0.9\n",
      "NN: 3.3 \tPF: 0.6\n",
      "NN: 3.5 \tPF: 0.0\n",
      "NN: 6.7 \tPF: 0.2\n",
      "NN: 8.2 \tPF: 0.1\n",
      "NN: 8.3 \tPF: 0.4\n",
      "NN: 7.0 \tPF: 0.0\n",
      "NN: 7.1 \tPF: 0.1\n",
      "NN: 6.3 \tPF: 0.5\n",
      "NN: 6.4 \tPF: 0.2\n",
      "NN: 6.1 \tPF: 1.2\n",
      "NN: 7.8 \tPF: 0.4\n",
      "NN: 6.1 \tPF: 0.6\n",
      "NN: 1.6 \tPF: 0.1\n",
      "NN: 3.8 \tPF: 0.1\n",
      "NN: 3.9 \tPF: 0.4\n",
      "NN: 3.2 \tPF: 0.7\n",
      "NN: 2.1 \tPF: 0.1\n",
      "NN: 3.8 \tPF: 1.4\n",
      "NN: 2.2 \tPF: 0.0\n",
      "NN: 4.3 \tPF: 1.7\n",
      "NN: 2.8 \tPF: 0.5\n",
      "NN: 1.8 \tPF: 0.2\n",
      "NN: 4.0 \tPF: 0.4\n",
      "NN: 3.1 \tPF: 0.0\n",
      "NN: 3.1 \tPF: 0.0\n",
      "NN: 2.1 \tPF: 0.0\n",
      "NN: 2.7 \tPF: 0.3\n",
      "NN: 1.7 \tPF: 0.1\n",
      "NN: 1.0 \tPF: 0.0\n",
      "NN: 5.3 \tPF: 1.2\n",
      "NN: 2.3 \tPF: 0.0\n",
      "NN: 1.4 \tPF: 0.2\n",
      "NN: 1.7 \tPF: 0.4\n",
      "NN: 7.0 \tPF: 1.6\n",
      "NN: 11.1 \tPF: 1.9\n",
      "NN: 6.7 \tPF: 1.2\n",
      "NN: 3.0 \tPF: 0.0\n",
      "NN: 2.2 \tPF: 0.4\n",
      "NN: 6.9 \tPF: 1.9\n",
      "NN: 1.5 \tPF: 0.2\n",
      "NN: 3.4 \tPF: 0.5\n",
      "NN: 9.3 \tPF: 1.1\n",
      "NN: 5.1 \tPF: 0.6\n",
      "NN: 2.4 \tPF: 0.2\n",
      "NN: 2.5 \tPF: 0.3\n",
      "NN: 7.5 \tPF: 2.8\n",
      "NN: 4.4 \tPF: 1.0\n",
      "NN: 5.9 \tPF: 0.8\n",
      "NN: 5.3 \tPF: 1.6\n",
      "NN: 2.5 \tPF: 0.9\n",
      "NN: 3.4 \tPF: 1.3\n",
      "NN: 3.2 \tPF: 0.6\n",
      "NN: 5.9 \tPF: 0.7\n",
      "NN: 7.4 \tPF: 1.3\n",
      "NN: 6.7 \tPF: 0.5\n",
      "NN: 5.9 \tPF: 0.2\n",
      "NN: 5.4 \tPF: 0.6\n",
      "NN: 5.7 \tPF: 1.3\n",
      "NN: 5.1 \tPF: 1.2\n",
      "NN: 5.8 \tPF: 0.4\n",
      "NN: 5.8 \tPF: 0.4\n",
      "NN: 5.4 \tPF: 0.7\n",
      "NN: 2.9 \tPF: 0.5\n",
      "NN: 5.7 \tPF: 0.4\n",
      "NN: 4.3 \tPF: 1.0\n",
      "NN: 4.4 \tPF: 0.1\n",
      "NN: 1.8 \tPF: 0.5\n",
      "NN: 4.7 \tPF: 0.6\n",
      "NN: 5.2 \tPF: 0.9\n",
      "NN: 1.5 \tPF: 0.2\n",
      "NN: 4.0 \tPF: 0.2\n",
      "NN: 4.8 \tPF: 0.2\n",
      "NN: 7.4 \tPF: 1.2\n",
      "NN: 2.9 \tPF: 0.5\n",
      "NN: 3.5 \tPF: 0.2\n",
      "NN: 3.6 \tPF: 0.3\n",
      "NN: 4.7 \tPF: 0.2\n",
      "NN: 5.0 \tPF: 0.5\n",
      "NN: 3.6 \tPF: 0.1\n",
      "NN: 5.7 \tPF: 1.1\n",
      "NN: 5.3 \tPF: 0.3\n",
      "NN: 3.8 \tPF: 0.4\n",
      "NN: 5.1 \tPF: 0.2\n",
      "NN: 4.4 \tPF: 0.1\n",
      "NN: 4.0 \tPF: 0.3\n",
      "NN: 2.7 \tPF: 0.3\n",
      "NN: 5.0 \tPF: 0.4\n",
      "NN: 5.5 \tPF: 1.6\n",
      "NN: 4.9 \tPF: 0.1\n",
      "NN: 4.6 \tPF: 0.0\n",
      "NN: 4.1 \tPF: 0.2\n",
      "NN: 4.1 \tPF: 0.4\n",
      "NN: 2.2 \tPF: 0.2\n",
      "NN: 2.8 \tPF: 0.6\n",
      "NN: 3.7 \tPF: 0.2\n",
      "NN: 2.1 \tPF: 0.0\n",
      "NN: 3.3 \tPF: 0.1\n",
      "NN: 2.9 \tPF: 0.1\n",
      "NN: 3.4 \tPF: 0.4\n",
      "NN: 1.9 \tPF: 0.1\n",
      "NN: 3.3 \tPF: 0.6\n",
      "NN: 3.0 \tPF: 0.0\n",
      "NN: 6.5 \tPF: 1.7\n",
      "NN: 4.3 \tPF: 0.6\n",
      "NN: 2.1 \tPF: 0.0\n",
      "NN: 4.2 \tPF: 0.7\n",
      "NN: 3.0 \tPF: 0.4\n",
      "NN: 4.2 \tPF: 0.4\n",
      "NN: 4.4 \tPF: 0.7\n",
      "NN: 2.1 \tPF: 0.1\n",
      "NN: 5.5 \tPF: 0.3\n",
      "NN: 5.9 \tPF: 17.9\n",
      "NN: 2.9 \tPF: 0.3\n",
      "NN: 2.9 \tPF: 0.8\n",
      "NN: 2.8 \tPF: 0.4\n",
      "NN: 2.0 \tPF: 0.0\n",
      "NN: 4.8 \tPF: 0.2\n",
      "NN: 3.1 \tPF: 0.1\n",
      "NN: 3.6 \tPF: 0.1\n",
      "NN: 2.6 \tPF: 0.3\n",
      "NN: 2.4 \tPF: 0.2\n",
      "NN: 3.2 \tPF: 0.0\n",
      "\n",
      "\n",
      "NN: 4.1 \tPF: 0.5\n"
     ]
    }
   ],
   "source": [
    "# Quantitative evaluation on test set\n",
    "err_nn = []\n",
    "err_pp = []\n",
    "for t in range(X_test.shape[0]):\n",
    "    nn = model(X_test[t,:,:].reshape(1,timestep,20)).numpy()\n",
    "    polynomial_fits = []\n",
    "    for k in range(20):  # Iterazione su ciascuna variabile\n",
    "        p = Polynomial.fit(range(timestep), X_test[t,:,k], 5)  # Fitting di un polinomio di grado 3\n",
    "        polynomial_fits.append(p)\n",
    "    pp = np.array([p(timestep+1) for p in polynomial_fits])\n",
    "    print(\"NN:\",np.round(np.mean(abs(nn-y_test[t]))*180,1),\"\\tPF:\",np.round(np.mean(abs(pp-y_test[t]))*180,1))\n",
    "    err_nn.append(abs(nn-y_test[t]))\n",
    "    err_pp.append(abs(pp-y_test[t]))\n",
    "print(\"\\n\")\n",
    "\n",
    "print(\"NN:\",np.round(np.mean(np.array(err_nn))*180,1),\"\\tPF:\",np.round(np.mean(np.array(err_pp))*180,1))"
   ]
  },
  {
   "cell_type": "code",
   "execution_count": 35,
   "metadata": {},
   "outputs": [
    {
     "data": {
      "image/png": "[encoded data removed]",
      "text/plain": [
       "<Figure size 640x480 with 3 Axes>"
      ]
     },
     "metadata": {},
     "output_type": "display_data"
    }
   ],
   "source": [
    "# Qualitative Plot\n",
    "dofs = ['pelvis_tilt', 'pelvis_list', 'pelvis_rotation', 'pelvis_tx',\\\n",
    " 'pelvis_ty', 'pelvis_tz', 'hip_flexion_r', 'hip_adduction_r',\\\n",
    " 'hip_rotation_r', 'knee_angle_r', 'ankle_angle_r', 'subtalar_angle_r',\\\n",
    " 'mtp_angle_r', 'hip_flexion_l', 'hip_adduction_l', 'hip_rotation_l',\\\n",
    " 'knee_angle_l', 'ankle_angle_l', 'subtalar_angle_l', 'mtp_angle_l',\\\n",
    " 'lumbar_bending', 'lumbar_extension', 'lumbar_twist', 'thorax_bending',\\\n",
    " 'thorax_extension', 'thorax_twist', 'head_bending', 'head_extension',\\\n",
    " 'head_twist', 'scapula_abduction_r', 'scapula_elevation_r',\\\n",
    " 'scapula_upward_rot_r', 'shoulder_r_x', 'shoulder_r_y', 'shoulder_r_z',\\\n",
    " 'elbow_flexion_r', 'pro_sup_r', 'wrist_flexion_r', 'wrist_deviation_r',\\\n",
    " 'scapula_abduction_l', 'scapula_elevation_l', 'scapula_upward_rot_l',\\\n",
    " 'shoulder_l_x', 'shoulder_l_y', 'shoulder_l_z', 'elbow_flexion_l',\\\n",
    " 'pro_sup_l', 'wrist_flexion_l', 'wrist_deviation_l']\n",
    "\n",
    "limits = {}\n",
    "for k in range(len(to_keep)):\n",
    "    if to_keep[k] == 1:\n",
    "        limits[dofs[k]] = {\n",
    "            \"l\" : np.nan,\n",
    "            \"u\" : np.nan\n",
    "        }\n",
    "\n",
    "limits['hip_flexion_r'][\"u\"] = 140\n",
    "limits['hip_flexion_r'][\"l\"] = -40\n",
    "limits['hip_adduction_r'][\"u\"] = 45\n",
    "limits['hip_adduction_r'][\"l\"] = -45\n",
    "limits['hip_rotation_r'][\"u\"] = 45\n",
    "limits['hip_rotation_r'][\"l\"] = -45\n",
    "limits['knee_angle_r'][\"u\"] = 140\n",
    "limits['knee_angle_r'][\"l\"] = -10\n",
    "limits['hip_flexion_l'][\"u\"] = 140\n",
    "limits['hip_flexion_l'][\"l\"] = -40\n",
    "limits['hip_adduction_l'][\"u\"] = 45\n",
    "limits['hip_adduction_l'][\"l\"] = -45\n",
    "limits['hip_rotation_l'][\"u\"] = 45\n",
    "limits['hip_rotation_l'][\"l\"] = -45\n",
    "limits['knee_angle_l'][\"u\"] = 140\n",
    "limits['knee_angle_l'][\"l\"] = -10\n",
    "limits['lumbar_bending'][\"u\"] = 20\n",
    "limits['lumbar_bending'][\"l\"] = -20\n",
    "limits['lumbar_twist'][\"u\"] = 5\n",
    "limits['lumbar_twist'][\"l\"] = -5\n",
    "limits['thorax_bending'][\"u\"] = 20\n",
    "limits['thorax_bending'][\"l\"] = -20\n",
    "limits['thorax_twist'][\"u\"] = 5\n",
    "limits['thorax_twist'][\"l\"] = -5\n",
    "limits['shoulder_r_x'][\"u\"] = 0\n",
    "limits['shoulder_r_x'][\"l\"] = -150\n",
    "limits['shoulder_r_y'][\"u\"] = 90\n",
    "limits['shoulder_r_y'][\"l\"] = -70\n",
    "limits['shoulder_r_z'][\"u\"] = 180\n",
    "limits['shoulder_r_z'][\"l\"] = -60\n",
    "limits['elbow_flexion_r'][\"u\"] = 154\n",
    "limits['elbow_flexion_r'][\"l\"] = -6\n",
    "# limits['pro_sup_r'][\"u\"] = np.nan\n",
    "# limits['pro_sup_r'][\"l\"] = np.nan\n",
    "limits['shoulder_l_x'][\"u\"] = 150\n",
    "limits['shoulder_l_x'][\"l\"] = 0\n",
    "limits['shoulder_l_y'][\"u\"] = 70\n",
    "limits['shoulder_l_y'][\"l\"] = -90\n",
    "limits['shoulder_l_z'][\"u\"] = 180\n",
    "limits['shoulder_l_z'][\"l\"] = -60\n",
    "limits['elbow_flexion_l'][\"u\"] = 154\n",
    "limits['elbow_flexion_l'][\"l\"] = -6\n",
    "# limits['pro_sup_l'][\"u\"] = np.nan\n",
    "# limits['pro_sup_l'][\"l\"] = np.nan\n",
    "\n",
    "IN  = np.vstack([X_test[i,:,:],20*[np.nan]])\n",
    "OUT = np.vstack([np.full_like(X_test[i,:,:], np.nan),out])\n",
    "PF3 = np.vstack([np.full_like(X_test[i,:,:], np.nan),predicted_values])\n",
    "GT = np.vstack([X_test[i,:,:],y_test[i,:]])\n",
    "\n",
    "\n",
    "# 20 2D subplots\n",
    "# plt.figure(figsize=(15, 20))\n",
    "# fig,axs = plt.subplots(4,5)\n",
    "# fig.suptitle('angle_'+str(timestep)+\"_\"+str(sample))\n",
    "# for j in range(20):\n",
    "#     axs[int(j/5),int(j%5)].plot(GT[:,j]*180,color=\"green\")\n",
    "#     axs[int(j/5),int(j%5)].plot(OUT[:,j]*180)\n",
    "#     axs[int(j/5),int(j%5)].plot(IN[:,j]*180,color=\"black\")\n",
    "#     axs[int(j/5),int(j%5)].set_title(list(limits.keys())[j])\n",
    "#     # axs[int(j/5),int(j%5)].set_ylim(limits[list(limits.keys())[j]][\"l\"],limits[list(limits.keys())[j]][\"u\"])\n",
    "# # Show plot\n",
    "# plt.tight_layout()\n",
    "# plt.savefig('tmp/photo.png')\n",
    "# plt.show()\n",
    "\n",
    "fig,axs = plt.subplots(3,1)\n",
    "\n",
    "js = [7,3,19]\n",
    "for n_j,j in enumerate(js):\n",
    "    axs[n_j].plot(GT[:,j]*180,color=\"green\", label='ground truth')\n",
    "    axs[n_j].plot(OUT[:,j]*180,marker='+', linestyle='dashed', label='RNN')\n",
    "    axs[n_j].plot(PF3[:,j]*180,color=\"purple\",marker='+', linestyle='dashed', label='Polinomial Fit')\n",
    "    axs[n_j].plot(IN[:,j]*180,color=\"black\", label='input')\n",
    "    axs[n_j].set_title(list(limits.keys())[j])\n",
    "    axs[n_j].legend(ncols=2,loc='center left')\n",
    "\n",
    "# axs.set_ylim(limits[list(limits.keys())[j]][\"l\"],limits[list(limits.keys())[j]][\"u\"])\n",
    "\n",
    "plt.tight_layout()\n",
    "plt.savefig('tmp/photo.png')\n",
    "plt.show()\n"
   ]
  }
 ],
 "metadata": {
  "kernelspec": {
   "display_name": "Python 3",
   "language": "python",
   "name": "python3"
  },
  "language_info": {
   "codemirror_mode": {
    "name": "ipython",
    "version": 3
   },
   "file_extension": ".py",
   "mimetype": "text/x-python",
   "name": "python",
   "nbconvert_exporter": "python",
   "pygments_lexer": "ipython3",
   "version": "3.8.10"
  }
 },
 "nbformat": 4,
 "nbformat_minor": 2
}
