{
 "cells": [
  {
   "cell_type": "code",
   "execution_count": 1,
   "metadata": {},
   "outputs": [
    {
     "name": "stderr",
     "output_type": "stream",
     "text": [
      "/usr/lib/python3/dist-packages/scipy/__init__.py:146: UserWarning: A NumPy version >=1.17.3 and <1.25.0 is required for this version of SciPy (detected version 1.26.0\n",
      "  warnings.warn(f\"A NumPy version >={np_minversion} and <{np_maxversion}\"\n"
     ]
    }
   ],
   "source": [
    "import numpy as np\n",
    "import os\n",
    "import json\n",
    "import pandas as pd\n",
    "\n",
    "from utils.evaluation import *\n",
    "data_path=\"/home/emartini/nas/MAEVE/dataset/panoptic-toolbox/trtpose3D/\"\n",
    "sequence_name = \"161029_sports1\"\n",
    "\n",
    "CONTINUOUS_STATE_PARTS = [\n",
    "            \"nose\", \"left_ear\", \"right_ear\", \"left_shoulder\", \"right_shoulder\", \n",
    "            \"left_elbow\", \"right_elbow\", \"left_wrist\", \"right_wrist\", \"left_hip\", \"right_hip\", \"left_knee\", \n",
    "            \"right_knee\", \"left_ankle\", \"right_ankle\", \"neck\"]\n",
    "\n",
    "# Load the json for comparison\n",
    "\n",
    "mapping = [12, 7, 10, 4,  5, 9, 6, 8, 11, 3, 14, 13]\n",
    "\n",
    "header = [\"frame_id\"]+[CONTINUOUS_STATE_PARTS[m] for m in mapping]"
   ]
  },
  {
   "cell_type": "code",
   "execution_count": 2,
   "metadata": {},
   "outputs": [],
   "source": [
    "# Load ground truth\n",
    "GT = {}\n",
    "with open(os.path.join(data_path,sequence_name+\".gt.json\"), \"r\") as f:\n",
    "    ground_truth = json.load(f)\n",
    "    for frame in ground_truth:\n",
    "        GT[frame[\"frame_id\"]] = frame        "
   ]
  },
  {
   "cell_type": "code",
   "execution_count": 16,
   "metadata": {},
   "outputs": [
    {
     "name": "stdout",
     "output_type": "stream",
     "text": [
      "CAM 6\n"
     ]
    },
    {
     "name": "stdout",
     "output_type": "stream",
     "text": [
      "HOTA: 0.0 \t MOTA: 0.1 \t MOTP: 0.14\n",
      "CAM 7\n",
      "HOTA: 0.0 \t MOTA: -0.0 \t MOTP: 0.16\n",
      "CAM 8\n",
      "HOTA: 0.0 \t MOTA: -0.1 \t MOTP: 0.17\n",
      "CAM 9\n"
     ]
    },
    {
     "ename": "KeyboardInterrupt",
     "evalue": "",
     "output_type": "error",
     "traceback": [
      "\u001b[0;31m---------------------------------------------------------------------------\u001b[0m",
      "\u001b[0;31mKeyboardInterrupt\u001b[0m                         Traceback (most recent call last)",
      "Cell \u001b[0;32mIn[16], line 39\u001b[0m\n\u001b[1;32m     37\u001b[0m \u001b[38;5;28;01mif\u001b[39;00m \u001b[38;5;28mid\u001b[39m \u001b[38;5;129;01min\u001b[39;00m DUT\u001b[38;5;241m.\u001b[39mkeys():\n\u001b[1;32m     38\u001b[0m     \u001b[38;5;28;01mfor\u001b[39;00m i,pp \u001b[38;5;129;01min\u001b[39;00m \u001b[38;5;28menumerate\u001b[39m(DUT[\u001b[38;5;28mid\u001b[39m][\u001b[38;5;124m'\u001b[39m\u001b[38;5;124mcontinuousState\u001b[39m\u001b[38;5;124m'\u001b[39m]):\n\u001b[0;32m---> 39\u001b[0m         s \u001b[38;5;241m=\u001b[39m \u001b[43mnp\u001b[49m\u001b[38;5;241;43m.\u001b[39;49m\u001b[43marray\u001b[49m\u001b[43m(\u001b[49m\u001b[43m[\u001b[49m\u001b[43m \u001b[49m\u001b[43m[\u001b[49m\u001b[43mnp\u001b[49m\u001b[38;5;241;43m.\u001b[39;49m\u001b[43mnan\u001b[49m\u001b[43m,\u001b[49m\u001b[43mnp\u001b[49m\u001b[38;5;241;43m.\u001b[39;49m\u001b[43mnan\u001b[49m\u001b[43m,\u001b[49m\u001b[43mnp\u001b[49m\u001b[38;5;241;43m.\u001b[39;49m\u001b[43mnan\u001b[49m\u001b[43m]\u001b[49m\u001b[43m \u001b[49m\u001b[38;5;28;43;01mif\u001b[39;49;00m\u001b[43m \u001b[49m\u001b[38;5;129;43;01mnot\u001b[39;49;00m\u001b[43m \u001b[49m\u001b[43mf\u001b[49m\u001b[43m \u001b[49m\u001b[38;5;28;43;01melse\u001b[39;49;00m\u001b[43m \u001b[49m\u001b[43mf\u001b[49m\u001b[43m \u001b[49m\u001b[38;5;28;43;01mfor\u001b[39;49;00m\u001b[43m \u001b[49m\u001b[43mf\u001b[49m\u001b[43m \u001b[49m\u001b[38;5;129;43;01min\u001b[39;49;00m\u001b[43m \u001b[49m\u001b[43mpp\u001b[49m\u001b[43m]\u001b[49m\u001b[43m)\u001b[49m\n\u001b[1;32m     40\u001b[0m         s \u001b[38;5;241m=\u001b[39m s[mapping,:]\n\u001b[1;32m     41\u001b[0m         \u001b[38;5;28;01mif\u001b[39;00m \u001b[38;5;129;01mnot\u001b[39;00m np\u001b[38;5;241m.\u001b[39misnan(s)\u001b[38;5;241m.\u001b[39mall():\n",
      "\u001b[0;31mKeyboardInterrupt\u001b[0m: "
     ]
    }
   ],
   "source": [
    "# Baseline (compute HOTA, MOTA, and MOTP)\n",
    "cameras = [6,7,8,9,10] # average the value across all cameras\n",
    "# cameras = [6] # average the value across all cameras\n",
    "cameras_results = []\n",
    "for camera in cameras:\n",
    "    print(\"CAM\",camera)\n",
    "    # Load camera file\n",
    "    DUT = {}\n",
    "    with open(os.path.join(data_path,sequence_name+\".\"+ str(camera) +\".json\"), \"r\") as f:\n",
    "        file = json.load(f)\n",
    "    for frame in file:\n",
    "        DUT[frame[\"frame_id\"]] = frame    \n",
    "    \n",
    "    ## Build the triple nested list (shape: n_frames, n_people, n_joints, 3) and IDs (shape: n_frames, n_people)\n",
    "    # Set unique ids (union of both gt and camera)\n",
    "    ids = list(GT.keys())\n",
    "    for frame_dut in list(DUT.keys()):\n",
    "        if frame_dut not in ids:\n",
    "            ids.append(frame_dut) \n",
    "            \n",
    "    predicted_keypoints = []\n",
    "    predicted_ids = []\n",
    "    ground_truth_keypoints = []\n",
    "    ground_truth_ids = []\n",
    "    for id in sorted(ids):\n",
    "        predicted_keypoints_per_frame = []\n",
    "        predicted_ids_per_frame = []\n",
    "        ground_truth_keypoints_per_frame = []\n",
    "        ground_truth_ids_per_frame = []\n",
    "        if id in GT.keys():\n",
    "            for pp in GT[id]['continuousState']:\n",
    "                s = np.array([ [np.nan,np.nan,np.nan] if not f else f for f in pp])\n",
    "                s = s[mapping,:]\n",
    "                ground_truth_keypoints_per_frame.append(s)\n",
    "            for i in GT[id]['track_ids']:\n",
    "                ground_truth_ids_per_frame.append(id)\n",
    "        if id in DUT.keys():\n",
    "            for i,pp in enumerate(DUT[id]['continuousState']):\n",
    "                s = np.array([ [np.nan,np.nan,np.nan] if not f else f for f in pp])\n",
    "                s = s[mapping,:]\n",
    "                if not np.isnan(s).all():\n",
    "                    predicted_keypoints_per_frame.append(s)\n",
    "                    predicted_ids_per_frame.append(i)\n",
    "\n",
    "            # This doesn't work for cameras\n",
    "            # for id in DUT[id]['track_ids']:\n",
    "            #     predicted_ids_per_frame.append(id)\n",
    "            \n",
    "        predicted_keypoints.append(predicted_keypoints_per_frame)\n",
    "        predicted_ids.append(predicted_ids_per_frame)\n",
    "        ground_truth_keypoints.append(ground_truth_keypoints_per_frame)\n",
    "        ground_truth_ids.append(ground_truth_ids_per_frame)\n",
    "    \n",
    "    hota = hota_3d(predicted_keypoints, predicted_ids, ground_truth_keypoints, ground_truth_ids,distance_threshold=0.25)\n",
    "    mota,motp = mota_motp(predicted_keypoints, predicted_ids, ground_truth_keypoints, ground_truth_ids,distance_threshold=0.25)\n",
    "    print(\"HOTA:\",hota,'\\t',\"MOTA:\",round(mota,1),'\\t',\"MOTP:\",round(motp,2))\n",
    "    cameras_results.append([hota,mota,motp])\n",
    "print(np.mean(np.array(cameras_results),axis=0))"
   ]
  },
  {
   "cell_type": "code",
   "execution_count": 18,
   "metadata": {},
   "outputs": [
    {
     "name": "stdout",
     "output_type": "stream",
     "text": [
      "CAM 9\n",
      "HOTA: 0.0 \t MOTA: -0.8 \t MOTP: 0.21\n"
     ]
    }
   ],
   "source": [
    "# Compared methods (HOTA, MOTA, and MOTP)\n",
    "# cameras = [6,7,8,9,10] # average the value across all cameras\n",
    "cameras = [6,7] # average the value across all cameras\n",
    "method = \"cometh\"\n",
    "\n",
    "result = []\n",
    "print(\"CAM\",camera)\n",
    "# Load camera file\n",
    "DUT = {}\n",
    "with open(os.path.join(data_path,sequence_name+\".\"+ method+\".\" +\".\".join(map(str, cameras)) +\".json\" ), \"r\") as f:\n",
    "    file = json.load(f)\n",
    "for frame in file:\n",
    "    DUT[frame[\"frame_id\"]] = frame    \n",
    "\n",
    "## Build the triple nested list (shape: n_frames, n_people, n_joints, 3) and IDs (shape: n_frames, n_people)\n",
    "# Set unique ids (union of both gt and camera)\n",
    "ids = list(GT.keys())\n",
    "for frame_dut in list(DUT.keys()):\n",
    "    if frame_dut not in ids:\n",
    "        ids.append(frame_dut) \n",
    "        \n",
    "predicted_keypoints = []\n",
    "predicted_ids = []\n",
    "ground_truth_keypoints = []\n",
    "ground_truth_ids = []\n",
    "for id in sorted(ids):\n",
    "    predicted_keypoints_per_frame = []\n",
    "    predicted_ids_per_frame = []\n",
    "    ground_truth_keypoints_per_frame = []\n",
    "    ground_truth_ids_per_frame = []\n",
    "    if id in GT.keys():\n",
    "        for pp in GT[id]['continuousState']:\n",
    "            s = np.array([ [np.nan,np.nan,np.nan] if not f else f for f in pp])\n",
    "            s = s[mapping,:]\n",
    "            ground_truth_keypoints_per_frame.append(s)\n",
    "        for i in GT[id]['track_ids']:\n",
    "            ground_truth_ids_per_frame.append(id)\n",
    "    if id in DUT.keys():\n",
    "        for i,pp in enumerate(DUT[id]['continuousState']):\n",
    "            s = np.array([ [np.nan,np.nan,np.nan] if not f else f for f in pp])\n",
    "            s = s[mapping,:]\n",
    "            if not np.isnan(s).all():\n",
    "                predicted_keypoints_per_frame.append(s)\n",
    "                # predicted_ids_per_frame.append(i)\n",
    "\n",
    "        # This doesn't work for cameras\n",
    "        for id in DUT[id]['track_ids']:\n",
    "            predicted_ids_per_frame.append(id)\n",
    "        \n",
    "    predicted_keypoints.append(predicted_keypoints_per_frame)\n",
    "    predicted_ids.append(predicted_ids_per_frame)\n",
    "    ground_truth_keypoints.append(ground_truth_keypoints_per_frame)\n",
    "    ground_truth_ids.append(ground_truth_ids_per_frame)\n",
    "\n",
    "hota = hota_3d(predicted_keypoints, predicted_ids, ground_truth_keypoints, ground_truth_ids,distance_threshold=0.25)\n",
    "mota,motp = mota_motp(predicted_keypoints, predicted_ids, ground_truth_keypoints, ground_truth_ids,distance_threshold=0.25)\n",
    "print(\"HOTA:\",hota,'\\t',\"MOTA:\",round(mota,1),'\\t',\"MOTP:\",round(motp,2))\n",
    "# cameras_results.append([hota,mota,motp])\n",
    "# print(np.mean(np.array(cameras_results),axis=0))"
   ]
  },
  {
   "cell_type": "code",
   "execution_count": null,
   "metadata": {},
   "outputs": [],
   "source": [
    "# Elaborates the tables\n",
    "for camera in cameras_results:\n",
    "    print(cameras_results[camera].median())"
   ]
  }
 ],
 "metadata": {
  "kernelspec": {
   "display_name": "Python 3",
   "language": "python",
   "name": "python3"
  },
  "language_info": {
   "codemirror_mode": {
    "name": "ipython",
    "version": 3
   },
   "file_extension": ".py",
   "mimetype": "text/x-python",
   "name": "python",
   "nbconvert_exporter": "python",
   "pygments_lexer": "ipython3",
   "version": "3.10.12"
  }
 },
 "nbformat": 4,
 "nbformat_minor": 2
}
